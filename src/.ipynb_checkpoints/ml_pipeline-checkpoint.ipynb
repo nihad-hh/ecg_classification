{
 "cells": [
  {
   "cell_type": "code",
   "execution_count": 3,
   "id": "12112921-d35c-463d-83b0-651fe9a29548",
   "metadata": {},
   "outputs": [
    {
     "name": "stderr",
     "output_type": "stream",
     "text": [
      "2025-05-08 08:12:32.470406: I tensorflow/core/util/port.cc:153] oneDNN custom operations are on. You may see slightly different numerical results due to floating-point round-off errors from different computation orders. To turn them off, set the environment variable `TF_ENABLE_ONEDNN_OPTS=0`.\n",
      "2025-05-08 08:12:32.549657: E external/local_xla/xla/stream_executor/cuda/cuda_fft.cc:485] Unable to register cuFFT factory: Attempting to register factory for plugin cuFFT when one has already been registered\n",
      "2025-05-08 08:12:32.567130: E external/local_xla/xla/stream_executor/cuda/cuda_dnn.cc:8454] Unable to register cuDNN factory: Attempting to register factory for plugin cuDNN when one has already been registered\n",
      "2025-05-08 08:12:32.571558: E external/local_xla/xla/stream_executor/cuda/cuda_blas.cc:1452] Unable to register cuBLAS factory: Attempting to register factory for plugin cuBLAS when one has already been registered\n",
      "2025-05-08 08:12:32.626493: I tensorflow/core/platform/cpu_feature_guard.cc:210] This TensorFlow binary is optimized to use available CPU instructions in performance-critical operations.\n",
      "To enable the following instructions: SSE4.1 SSE4.2 AVX AVX2 AVX512F AVX512_VNNI FMA, in other operations, rebuild TensorFlow with the appropriate compiler flags.\n"
     ]
    }
   ],
   "source": [
    "import wfdb\n",
    "import matplotlib.pyplot as plt\n",
    "import pandas as pd\n",
    "import numpy as np\n",
    "from keras import layers, models\n",
    "import tensorflow as tf\n",
    "\n",
    "import os\n",
    "import sklearn"
   ]
  },
  {
   "cell_type": "markdown",
   "id": "06627f1d",
   "metadata": {},
   "source": [
    "# Helper functions"
   ]
  },
  {
   "cell_type": "markdown",
   "id": "5122cbbb",
   "metadata": {
    "heading_collapsed": true
   },
   "source": [
    "### Metrics"
   ]
  },
  {
   "cell_type": "code",
   "execution_count": 4,
   "id": "1cf37c28",
   "metadata": {
    "hidden": true
   },
   "outputs": [
    {
     "name": "stderr",
     "output_type": "stream",
     "text": [
      "2025-05-08 08:12:35.203363: E external/local_xla/xla/stream_executor/cuda/cuda_driver.cc:266] failed call to cuInit: CUDA_ERROR_UNKNOWN: unknown error\n",
      "2025-05-08 08:12:35.203657: I external/local_xla/xla/stream_executor/cuda/cuda_diagnostics.cc:135] retrieving CUDA diagnostic information for host: nihad-IdeaPad-3-15ITL6\n",
      "2025-05-08 08:12:35.203660: I external/local_xla/xla/stream_executor/cuda/cuda_diagnostics.cc:142] hostname: nihad-IdeaPad-3-15ITL6\n",
      "2025-05-08 08:12:35.203802: I external/local_xla/xla/stream_executor/cuda/cuda_diagnostics.cc:166] libcuda reported version is: 550.144.3\n",
      "2025-05-08 08:12:35.203812: I external/local_xla/xla/stream_executor/cuda/cuda_diagnostics.cc:170] kernel reported version is: 550.120.0\n",
      "2025-05-08 08:12:35.203815: E external/local_xla/xla/stream_executor/cuda/cuda_diagnostics.cc:252] kernel version 550.120.0 does not match DSO version 550.144.3 -- cannot find working devices in this configuration\n"
     ]
    }
   ],
   "source": [
    "import tensorflow.keras.backend as K\n",
    "\n",
    "def sensitivity(y_true, y_pred):\n",
    "  y_pred_classes = K.argmax(y_pred, axis=-1)\n",
    "  true_positives = K.sum(K.cast(y_pred_classes[y_true == 1] == 1, 'float32'))\n",
    "  possible_positives = K.sum(K.cast(y_true == 1, 'float32'))\n",
    "  return true_positives / (possible_positives + K.epsilon())\n",
    "\n",
    "def specificity(y_true, y_pred):\n",
    "  y_pred_classes = K.argmax(y_pred, axis=-1)\n",
    "  true_negatives = K.sum(K.cast(y_pred_classes[y_true == 0] == 0, 'float32'))\n",
    "  possible_negatives = K.sum(K.cast(y_true == 0, 'float32'))\n",
    "  return true_negatives / (possible_negatives + K.epsilon())\n",
    "\n",
    "from tensorflow.keras.metrics import F1Score\n",
    "\n",
    "f1_metric = F1Score()\n",
    "\n",
    "from tensorflow.keras.metrics import SparseCategoricalAccuracy\n",
    "\n",
    "accuracy = SparseCategoricalAccuracy(name='accuracy')"
   ]
  },
  {
   "cell_type": "markdown",
   "id": "27de8d68",
   "metadata": {
    "heading_collapsed": true
   },
   "source": [
    "### Data loading"
   ]
  },
  {
   "cell_type": "code",
   "execution_count": 5,
   "id": "f70b493d",
   "metadata": {
    "code_folding": [
     0
    ],
    "hidden": true
   },
   "outputs": [],
   "source": [
    "def load_signals():\n",
    "\n",
    "    path = \"../data/training2017/\"\n",
    "\n",
    "    records = os.listdir(path)\n",
    "\n",
    "    records = [record for record in records if record.endswith('.mat')]\n",
    "\n",
    "    records = [os.path.splitext(record)[0] for record in records]\n",
    "\n",
    "    records.sort()\n",
    "\n",
    "    signals = [wfdb.rdrecord(record_name=path+record).p_signal for record in records]\n",
    "\n",
    "    fs = wfdb.rdrecord(record_name=path+records[0]).fs\n",
    "\n",
    "    signals_flat = []\n",
    "    for signal in signals:\n",
    "        signal_flat = [sample[0] for sample in signal]\n",
    "        signal_flat = np.array(signal_flat)\n",
    "        signals_flat.append(signal_flat)\n",
    "\n",
    "    signals_flat = np.asarray(signals_flat, dtype=np.ndarray)\n",
    "    \n",
    "    return signals_flat\n",
    "\n",
    "signals_flat = load_signals()"
   ]
  },
  {
   "cell_type": "markdown",
   "id": "4fcefe89",
   "metadata": {
    "heading_collapsed": true
   },
   "source": [
    "### EDA"
   ]
  },
  {
   "cell_type": "code",
   "execution_count": 25,
   "id": "73308759",
   "metadata": {
    "code_folding": [
     4
    ],
    "hidden": true
   },
   "outputs": [],
   "source": [
    "import numpy as np\n",
    "import matplotlib.pyplot as plt\n",
    "from scipy.signal import periodogram\n",
    "\n",
    "def plot_psd_heatmap(signals, fs=300):\n",
    "    \"\"\"\n",
    "    Plots a power spectral density (PSD) heatmap using periodogram.\n",
    "    \n",
    "    Parameters:\n",
    "        signals (array-like): List or array of 1D signals (same length).\n",
    "        fs (float): Sampling frequency in Hz.\n",
    "    \"\"\"\n",
    "    signals = np.array(signals.tolist(), dtype=np.float32)  # convert object array to float\n",
    "    num_signals = len(signals)\n",
    "    \n",
    "    # Compute PSD for each signal\n",
    "    freqs, psd = periodogram(signals, fs=fs, axis=1)\n",
    "\n",
    "    # Convert to dB scale (optional but common)\n",
    "    psd_db = 10 * np.log10(psd + 1e-12)  # avoid log(0)\n",
    "    #psd_db = psd\n",
    "    \n",
    "    # Plot\n",
    "    plt.figure(figsize=(12, 6))\n",
    "    plt.imshow(psd_db, aspect='auto', origin='lower',\n",
    "               extent=[freqs[0], freqs[-1], 0, num_signals],\n",
    "               cmap='viridis')\n",
    "    plt.colorbar(label='Power Spectral Density (dB/Hz)')\n",
    "    plt.xlabel('Frequency (Hz)')\n",
    "    plt.ylabel('Signal Index')\n",
    "    plt.title('PSD Heatmap using Periodogram')\n",
    "    plt.tight_layout()\n",
    "    plt.show()"
   ]
  },
  {
   "cell_type": "markdown",
   "id": "0b7c481c",
   "metadata": {
    "heading_collapsed": true
   },
   "source": [
    "### Modifying signal length"
   ]
  },
  {
   "cell_type": "code",
   "execution_count": 7,
   "id": "711e59e5",
   "metadata": {
    "code_folding": [
     0
    ],
    "hidden": true
   },
   "outputs": [],
   "source": [
    "def cut_signals_shortest(signals_flat):\n",
    "     # Get the minimum length across all signals\n",
    "    lengths = [len(signal) for signal in signals_flat]\n",
    "    min_length = min(lengths)\n",
    "    \n",
    "    # Create the middle slices for each signal\n",
    "    signals_middle = []\n",
    "    for signal in signals_flat:\n",
    "        signal_length = len(signal)\n",
    "        \n",
    "        # Calculate the start and end indices for the middle of each signal\n",
    "        start = (signal_length // 2 - min_length // 2)\n",
    "        end = start + min_length\n",
    "        \n",
    "        # Slice the signal to keep the middle part\n",
    "        signals_middle.append(signal[start:end])\n",
    "    \n",
    "    # Convert the list of signals to a NumPy array\n",
    "    signals_middle = np.array(signals_middle)\n",
    "    \n",
    "    return signals_middle"
   ]
  },
  {
   "cell_type": "code",
   "execution_count": 62,
   "id": "ddc17423",
   "metadata": {
    "code_folding": [],
    "hidden": true
   },
   "outputs": [],
   "source": [
    "def extract_center_5s(signals, target_length=600):\n",
    "    \"\"\"\n",
    "    Extract central 5 seconds (600 samples at 120Hz) from each signal.\n",
    "    If signal is shorter than 600, pad with zeros (centered).\n",
    "    \n",
    "    Parameters:\n",
    "        signals: array-like of 1D numpy arrays (downsampled ECG signals)\n",
    "        target_length: number of samples to extract (default is 600 for 5s at 120Hz)\n",
    "        \n",
    "    Returns:\n",
    "        np.ndarray of shape (num_signals, target_length)\n",
    "    \"\"\"\n",
    "    processed = []\n",
    "\n",
    "    for signal in signals:\n",
    "        sig_len = len(signal)\n",
    "\n",
    "        if sig_len >= target_length:\n",
    "            start = (sig_len - target_length) // 2\n",
    "            segment = signal[start:start + target_length]\n",
    "        else:\n",
    "            pad_len = target_length - sig_len\n",
    "            pad_left = pad_len // 2\n",
    "            pad_right = pad_len - pad_left\n",
    "            segment = np.pad(signal, (pad_left, pad_right), mode='constant')\n",
    "\n",
    "        processed.append(segment)\n",
    "\n",
    "    return np.array(processed, dtype=np.float32)"
   ]
  },
  {
   "cell_type": "code",
   "execution_count": 8,
   "id": "86692001",
   "metadata": {
    "hidden": true
   },
   "outputs": [],
   "source": [
    "# Per-signal z-score normalization (recommended for ECG)\n",
    "# signals_short = (signals_short - signals_short.mean(axis=1, keepdims=True)) / (signals_short.std(axis=1, keepdims=True) + 1e-8)"
   ]
  },
  {
   "cell_type": "markdown",
   "id": "80596c87",
   "metadata": {
    "heading_collapsed": true
   },
   "source": [
    "### Loading labels"
   ]
  },
  {
   "cell_type": "code",
   "execution_count": 9,
   "id": "c944278f",
   "metadata": {
    "hidden": true
   },
   "outputs": [],
   "source": [
    "def load_labels():\n",
    "\n",
    "    data = pd.read_csv(filepath_or_buffer=\"../data/training2017/REFERENCE-v3.csv\", names=[\"signal_name\", \"label\"])\n",
    "\n",
    "    data[\"label\"] = data[\"label\"].astype(\"category\").cat.codes\n",
    "\n",
    "    data = data.drop([\"signal_name\"], axis=1)\n",
    "\n",
    "    y = np.array(data[\"label\"])\n",
    "    \n",
    "    return y"
   ]
  },
  {
   "cell_type": "markdown",
   "id": "805d1416",
   "metadata": {
    "heading_collapsed": true
   },
   "source": [
    "### Removing extra classes"
   ]
  },
  {
   "cell_type": "code",
   "execution_count": 10,
   "id": "844a0438",
   "metadata": {
    "hidden": true
   },
   "outputs": [],
   "source": [
    "def remove_extra_classes(X, y):\n",
    "\n",
    "    classes_to_remove = [2, 3]\n",
    "\n",
    "    classes, counts = np.unique(y, return_counts=True)\n",
    "\n",
    "    # Display results\n",
    "    print(\"Before removing \\n\")\n",
    "    for c, count in zip(classes, counts):\n",
    "        print(f\"Class {c}: {count} samples\")\n",
    "\n",
    "\n",
    "    mask = ~np.isin(y, classes_to_remove)\n",
    "\n",
    "    X = X[mask]\n",
    "    y = y[mask]\n",
    "\n",
    "    classes, counts = np.unique(y, return_counts=True)\n",
    "\n",
    "    print(\"\\nAfter removing \\n\")\n",
    "    for c, count in zip(classes, counts):\n",
    "        print(f\"Class {c}: {count} samples\")\n",
    "        \n",
    "    return X, y"
   ]
  },
  {
   "cell_type": "markdown",
   "id": "30ba17bd",
   "metadata": {
    "heading_collapsed": true
   },
   "source": [
    "### Normalisation (-1,1)"
   ]
  },
  {
   "cell_type": "code",
   "execution_count": 11,
   "id": "93139527",
   "metadata": {
    "hidden": true
   },
   "outputs": [],
   "source": [
    "def normalize_to_minus1_1(signals):\n",
    "    norm_signals = []\n",
    "    for x in signals:\n",
    "        x_min = np.min(x)\n",
    "        x_max = np.max(x)\n",
    "        if x_max != x_min:\n",
    "            x_norm = 2 * (x - x_min) / (x_max - x_min) - 1\n",
    "        else:\n",
    "            x_norm = np.zeros_like(x)  # Avoid division by zero\n",
    "        norm_signals.append(x_norm)\n",
    "    return np.array(norm_signals, dtype=object)\n"
   ]
  },
  {
   "cell_type": "markdown",
   "id": "caef1c1d",
   "metadata": {
    "heading_collapsed": true
   },
   "source": [
    "### Oversampling"
   ]
  },
  {
   "cell_type": "code",
   "execution_count": 12,
   "id": "0e975b92",
   "metadata": {
    "hidden": true
   },
   "outputs": [],
   "source": [
    "from imblearn.over_sampling import RandomOverSampler"
   ]
  },
  {
   "cell_type": "code",
   "execution_count": 13,
   "id": "28276358",
   "metadata": {
    "hidden": true
   },
   "outputs": [],
   "source": [
    "from sklearn.utils.class_weight import compute_class_weight\n",
    "\n",
    "def get_class_weights(y):\n",
    "    # Convert one-hot labels to integers\n",
    "    y_train_labels = np.argmax(y_train, axis=1)\n",
    "\n",
    "    # Compute class weights\n",
    "    class_weights = compute_class_weight('balanced', classes=np.unique(y_train_labels), y=y_train_labels)\n",
    "    class_weight_dict = dict(enumerate(class_weights))\n",
    "    \n",
    "    return class_weight_dict"
   ]
  },
  {
   "cell_type": "markdown",
   "id": "a20e88fc",
   "metadata": {},
   "source": [
    "### Models, hyperparameter optimization and validation"
   ]
  },
  {
   "cell_type": "code",
   "execution_count": 14,
   "id": "742a779e",
   "metadata": {},
   "outputs": [],
   "source": [
    "from tensorflow.keras.utils import to_categorical"
   ]
  },
  {
   "cell_type": "code",
   "execution_count": 15,
   "id": "ee5aa5a2",
   "metadata": {
    "code_folding": [
     0
    ]
   },
   "outputs": [],
   "source": [
    "def make_model_conv1D(input_shape):\n",
    "    input_layer = layers.Input(shape=(input_shape, 1))\n",
    "\n",
    "    # Block 1\n",
    "    x = layers.Conv1D(32, kernel_size=7, padding=\"same\")(input_layer)\n",
    "    x = layers.BatchNormalization()(x)\n",
    "    x = layers.ReLU()(x)\n",
    "    x = layers.MaxPooling1D(pool_size=2)(x)\n",
    "\n",
    "    # Block 2\n",
    "    x = layers.Conv1D(64, kernel_size=5, padding=\"same\")(x)\n",
    "    x = layers.BatchNormalization()(x)\n",
    "    x = layers.ReLU()(x)\n",
    "    x = layers.MaxPooling1D(pool_size=2)(x)\n",
    "\n",
    "    # Block 3\n",
    "    x = layers.Conv1D(128, kernel_size=3, padding=\"same\")(x)\n",
    "    x = layers.BatchNormalization()(x)\n",
    "    x = layers.ReLU()(x)\n",
    "    x = layers.GlobalAveragePooling1D()(x)\n",
    "\n",
    "    # Optional: Dropout for regularization\n",
    "    x = layers.Dropout(0.5)(x)\n",
    "\n",
    "    output_layer = layers.Dense(4, activation=\"softmax\")(x)\n",
    "\n",
    "    return models.Model(inputs=input_layer, outputs=output_layer)"
   ]
  },
  {
   "cell_type": "code",
   "execution_count": 16,
   "id": "7b061dd1",
   "metadata": {
    "code_folding": [
     3
    ]
   },
   "outputs": [],
   "source": [
    "from tensorflow.keras.models import Sequential\n",
    "from tensorflow.keras.layers import Conv1D, MaxPooling1D, Flatten, Dense, ReLU, Input, Softmax\n",
    "\n",
    "def build_custom_vgg_1d(input_length=3000, num_classes=4):\n",
    "    model = Sequential()\n",
    "    model.add(Input(shape=(input_length, 1)))  # 1D signal input\n",
    "\n",
    "    # Layer 1\n",
    "    model.add(Conv1D(64, kernel_size=3, padding='same'))\n",
    "    model.add(ReLU())\n",
    "    model.add(Conv1D(64, kernel_size=3, padding='same'))\n",
    "    model.add(ReLU())\n",
    "    model.add(MaxPooling1D(pool_size=3, strides=3))\n",
    "\n",
    "    # Layer 2\n",
    "    model.add(Conv1D(128, kernel_size=3, padding='same'))\n",
    "    model.add(ReLU())\n",
    "    model.add(Conv1D(128, kernel_size=3, padding='same'))\n",
    "    model.add(ReLU())\n",
    "    model.add(MaxPooling1D(pool_size=3, strides=3))\n",
    "\n",
    "    # Layer 3\n",
    "    model.add(Conv1D(256, kernel_size=3, padding='same'))\n",
    "    model.add(ReLU())\n",
    "    model.add(Conv1D(256, kernel_size=3, padding='same'))\n",
    "    model.add(ReLU())\n",
    "    model.add(Conv1D(256, kernel_size=3, padding='same'))\n",
    "    model.add(ReLU())\n",
    "    model.add(MaxPooling1D(pool_size=2, strides=2))\n",
    "\n",
    "    # Layer 4\n",
    "    model.add(Conv1D(512, kernel_size=3, padding='same'))\n",
    "    model.add(ReLU())\n",
    "    model.add(Conv1D(512, kernel_size=3, padding='same'))\n",
    "    model.add(ReLU())\n",
    "    model.add(Conv1D(512, kernel_size=3, padding='same'))\n",
    "    model.add(ReLU())\n",
    "    model.add(MaxPooling1D(pool_size=2, strides=2))\n",
    "\n",
    "    # Layer 5\n",
    "    model.add(Conv1D(512, kernel_size=3, padding='same'))\n",
    "    model.add(ReLU())\n",
    "    model.add(Conv1D(512, kernel_size=3, padding='same'))\n",
    "    model.add(ReLU())\n",
    "    model.add(Conv1D(512, kernel_size=3, padding='same'))\n",
    "    model.add(ReLU())\n",
    "    model.add(MaxPooling1D(pool_size=2, strides=2))\n",
    "\n",
    "    model.add(Flatten())\n",
    "\n",
    "    # Layer 6, 7, 8: Fully connected layers\n",
    "    model.add(Dense(1024, activation='relu'))  # Layer 6\n",
    "    model.add(Dense(1024, activation='relu'))  # Layer 7\n",
    "    model.add(Dense(256, activation='relu'))   # Layer 8\n",
    "\n",
    "    # Layer 9: Output softmax\n",
    "    model.add(Dense(num_classes, activation='softmax'))\n",
    "\n",
    "    return model"
   ]
  },
  {
   "cell_type": "code",
   "execution_count": 57,
   "id": "3943c503",
   "metadata": {
    "code_folding": [
     3,
     11
    ]
   },
   "outputs": [],
   "source": [
    "from tensorflow.keras.layers import Concatenate, BatchNormalization\n",
    "from tensorflow.keras.models import Model\n",
    "\n",
    "def conv_block(x, filters, kernel_size, blocks, pool_stride):\n",
    "    for _ in range(blocks):\n",
    "        x = Conv1D(filters, kernel_size, padding='same')(x)\n",
    "        x = BatchNormalization()(x)\n",
    "        x = ReLU()(x)\n",
    "    x = MaxPooling1D(pool_size=2, strides=pool_stride, padding='same')(x)\n",
    "    return x\n",
    "\n",
    "def build_dual_stream_model(input_length=3000, num_classes=2):\n",
    "    input_layer = Input(shape=(input_length, 1))\n",
    "\n",
    "    # Stream 1 (kernel size = 3)\n",
    "    s1 = conv_block(input_layer, 64, 3, 2, 3)    # Layer 1\n",
    "    s1 = conv_block(s1, 128, 3, 2, 3)            # Layer 2\n",
    "    s1 = conv_block(s1, 256, 3, 3, 2)            # Layer 3\n",
    "    s1 = conv_block(s1, 512, 3, 3, 2)            # Layer 4\n",
    "    s1 = conv_block(s1, 512, 3, 3, 2)            # Layer 5\n",
    "    s1 = Flatten()(s1)\n",
    "\n",
    "    # Stream 2 (kernel size = 5 for first two layers, then same as stream 1)\n",
    "    s2 = conv_block(input_layer, 64, 5, 2, 3)    # Layer 1\n",
    "    s2 = conv_block(s2, 128, 5, 2, 3)            # Layer 2\n",
    "    s2 = conv_block(s2, 256, 3, 3, 2)            # Layer 3\n",
    "    s2 = conv_block(s2, 512, 3, 3, 2)            # Layer 4\n",
    "    s2 = conv_block(s2, 512, 3, 3, 2)            # Layer 5\n",
    "    s2 = Flatten()(s2)\n",
    "\n",
    "    # Merge\n",
    "    merged = Concatenate()([s1, s2])\n",
    "\n",
    "    # Fully connected layers\n",
    "    x = Dense(1024, activation='relu')(merged)\n",
    "    x = Dense(1024, activation='relu')(x)\n",
    "    x = Dense(256, activation='relu')(x)\n",
    "    output = Dense(num_classes, activation='softmax')(x)\n",
    "\n",
    "    model = Model(inputs=input_layer, outputs=output)\n",
    "    return model"
   ]
  },
  {
   "cell_type": "code",
   "execution_count": 81,
   "id": "3ce510ed",
   "metadata": {
    "code_folding": [
     3
    ]
   },
   "outputs": [],
   "source": [
    "import tensorflow as tf\n",
    "from tensorflow.keras.layers import Layer, Conv1D\n",
    "\n",
    "class MaskedConv1D(Layer):\n",
    "    def __init__(self, filters, kernel_size, **kwargs):\n",
    "        super(MaskedConv1D, self).__init__()\n",
    "        self.conv = Conv1D(filters, kernel_size, padding='same', **kwargs)\n",
    "\n",
    "    def call(self, inputs, mask=None):\n",
    "        x = self.conv(inputs)\n",
    "        if mask is not None:\n",
    "            mask = tf.cast(tf.expand_dims(mask, axis=-1), x.dtype)\n",
    "            x *= mask\n",
    "        return x\n",
    "\n",
    "    def compute_mask(self, inputs, mask=None):\n",
    "        return mask\n"
   ]
  },
  {
   "cell_type": "code",
   "execution_count": 115,
   "id": "3892d490",
   "metadata": {
    "code_folding": [
     6,
     14
    ]
   },
   "outputs": [],
   "source": [
    "from tensorflow.keras.models import Model\n",
    "from tensorflow.keras.layers import (\n",
    "    Input, Masking, ReLU, MaxPooling1D, GlobalAveragePooling1D,\n",
    "    Dense, Concatenate, BatchNormalization\n",
    ")\n",
    "\n",
    "def masked_conv_block(x, filters, kernel_size, blocks, pool_stride):\n",
    "    for _ in range(blocks):\n",
    "        x = MaskedConv1D(filters, kernel_size)(x)\n",
    "        x = BatchNormalization()(x)\n",
    "        x = ReLU()(x)\n",
    "    x = MaxPooling1D(pool_size=2, strides=pool_stride, padding='same')(x)\n",
    "    return x\n",
    "\n",
    "def build_model(input_length=600, trial=None, tune=False,\n",
    "                dense_units=512, learning_rate=1e-3, batch_size=32):\n",
    "    input_layer = Input(shape=(input_length, 1))\n",
    "    masked_input = Masking(mask_value=0.0)(input_layer)\n",
    "\n",
    "    # If tuning, get hyperparameters from trial\n",
    "    if tune and trial is not None:\n",
    "        dense_units = trial.suggest_int(\"dense_units\", 128, 1024, step=128)\n",
    "        learning_rate = trial.suggest_float(\"lr\", 1e-4, 1e-2, log=True)\n",
    "        batch_size = trial.suggest_categorical(\"batch_size\", [32, 64])\n",
    "\n",
    "    # Stream 1\n",
    "    s1 = masked_conv_block(masked_input, 64, 3, 2, 3)\n",
    "    s1 = masked_conv_block(s1, 128, 3, 2, 3)\n",
    "    s1 = masked_conv_block(s1, 256, 3, 3, 2)\n",
    "    s1 = masked_conv_block(s1, 512, 3, 3, 2)\n",
    "    s1 = GlobalAveragePooling1D()(s1)\n",
    "\n",
    "    # Stream 2\n",
    "    s2 = masked_conv_block(masked_input, 64, 5, 2, 3)\n",
    "    s2 = masked_conv_block(s2, 128, 5, 2, 3)\n",
    "    s2 = masked_conv_block(s2, 256, 3, 3, 2)\n",
    "    s2 = masked_conv_block(s2, 512, 3, 3, 2)\n",
    "    s2 = GlobalAveragePooling1D()(s2)\n",
    "\n",
    "    merged = Concatenate()([s1, s2])\n",
    "    x = Dense(dense_units, activation='relu')(merged)\n",
    "    x = Dense(dense_units, activation='relu')(x)\n",
    "    output = Dense(2, activation='softmax')(x)\n",
    "\n",
    "    model = Model(inputs=input_layer, outputs=output)\n",
    "    model.compile(optimizer=tf.keras.optimizers.Adam(learning_rate=learning_rate),\n",
    "                  loss='binary_crossentropy',\n",
    "                  metrics=['accuracy'])\n",
    "\n",
    "    return model, batch_size  # Also return batch_size for training\n"
   ]
  },
  {
   "cell_type": "code",
   "execution_count": 113,
   "id": "452daf11",
   "metadata": {
    "code_folding": [
     3
    ]
   },
   "outputs": [],
   "source": [
    "from sklearn.model_selection import train_test_split\n",
    "from sklearn.metrics import accuracy_score\n",
    "\n",
    "def objective(trial):\n",
    "    # Load and preprocess data\n",
    "    X = X_data  # shape (N, 600, 1)\n",
    "    y = y_data  # shape (N,) with 0 or 1\n",
    "\n",
    "    X_train, X_val, y_train, y_val = train_test_split(X, y, test_size=0.2, stratify=y)\n",
    "    \n",
    "    X_train, y_train = RandomOverSampler().fit_resample(X_train, y_train)\n",
    "\n",
    "    y_train = to_categorical(y_train, num_classes=2)\n",
    "    y_val = to_categorical(y_val, num_classes=2)\n",
    "\n",
    "    model, batch_size = build_model(input_length=600, trial=trial, tune=True)\n",
    "    \n",
    "    history = model.fit(X_train, y_train,\n",
    "                        validation_data=(X_val, y_val),\n",
    "                        epochs=10,\n",
    "                        batch_size=trial.suggest_categorical(\"batch_size\", [32, 64]),\n",
    "                        verbose=0)\n",
    "    \n",
    "    # Evaluate\n",
    "    val_preds = (model.predict(X_val) > 0.5).astype(int)\n",
    "    val_acc = accuracy_score(y_val, val_preds)\n",
    "    return 1.0 - val_acc  # Optuna minimizes"
   ]
  },
  {
   "cell_type": "markdown",
   "id": "c62ef400",
   "metadata": {
    "heading_collapsed": true
   },
   "source": [
    "### Evaluation"
   ]
  },
  {
   "cell_type": "code",
   "execution_count": 18,
   "id": "9452ace3",
   "metadata": {
    "code_folding": [
     3
    ],
    "hidden": true
   },
   "outputs": [],
   "source": [
    "import numpy as np\n",
    "from sklearn.metrics import confusion_matrix, accuracy_score\n",
    "\n",
    "def evaluate_model(model, X_test, y_test, one_hot_labels=True):\n",
    "    \"\"\"\n",
    "    Evaluates a Keras model on a test set and prints:\n",
    "    - Confusion matrix\n",
    "    - Per-class sensitivity and specificity\n",
    "    - Overall accuracy\n",
    "\n",
    "    Parameters:\n",
    "    - model: Trained Keras model\n",
    "    - X_test: Test input data (NumPy array)\n",
    "    - y_test: True labels (one-hot encoded or integer)\n",
    "    - one_hot_labels: Set to True if y_test is one-hot encoded\n",
    "    \"\"\"\n",
    "    \n",
    "    # Convert predictions and labels to class indices\n",
    "    y_pred_probs = model.predict(X_test)\n",
    "    y_pred = np.argmax(y_pred_probs, axis=1)\n",
    "    \n",
    "    if one_hot_labels:\n",
    "        y_true = np.argmax(y_test, axis=1)\n",
    "    else:\n",
    "        y_true = y_test\n",
    "\n",
    "    # Confusion matrix\n",
    "    cm = confusion_matrix(y_true, y_pred)\n",
    "    print(\"Confusion Matrix:\", cm)\n",
    "\n",
    "    # Accuracy\n",
    "    accuracy = accuracy_score(y_true, y_pred)\n",
    "    print(f\"\\nOverall Accuracy: {accuracy:.4f}\")\n",
    "\n",
    "    # Sensitivity & Specificity\n",
    "    num_classes = cm.shape[0]\n",
    "    sensitivity = []\n",
    "    specificity = []\n",
    "\n",
    "    for i in range(num_classes):\n",
    "        TP = cm[i, i]\n",
    "        FN = np.sum(cm[i, :]) - TP\n",
    "        FP = np.sum(cm[:, i]) - TP\n",
    "        TN = np.sum(cm) - (TP + FN + FP)\n",
    "\n",
    "        sens = TP / (TP + FN) if (TP + FN) != 0 else 0\n",
    "        spec = TN / (TN + FP) if (TN + FP) != 0 else 0\n",
    "\n",
    "        sensitivity.append(sens)\n",
    "        specificity.append(spec)\n",
    "\n",
    "        print(f\"Class {i}: Sensitivity = {sens:.4f}, Specificity = {spec:.4f}\")"
   ]
  },
  {
   "cell_type": "code",
   "execution_count": 17,
   "id": "793f840a",
   "metadata": {
    "code_folding": [
     2
    ],
    "hidden": true
   },
   "outputs": [],
   "source": [
    "from sklearn.model_selection import KFold\n",
    "\n",
    "def run_kfold_cross_validation(X, y, build_model_fn, num_folds=10, epochs=10, batch_size=32):\n",
    "    \"\"\"\n",
    "    Run k-fold cross-validation for a Keras model.\n",
    "\n",
    "    Parameters:\n",
    "        X (np.ndarray): Input features of shape (samples, length).\n",
    "        y (np.ndarray): Labels of shape (samples,) or one-hot encoded.\n",
    "        build_model_fn (function): A function that returns a compiled Keras model.\n",
    "        num_folds (int): Number of folds for cross-validation.\n",
    "        epochs (int): Training epochs per fold.\n",
    "        batch_size (int): Training batch size.\n",
    "        one_hot (bool): If True, converts labels to one-hot encoding.\n",
    "\n",
    "    Returns:\n",
    "        List of validation accuracies per fold.\n",
    "    \"\"\"\n",
    "    kf = KFold(n_splits=num_folds, shuffle=True, random_state=42)\n",
    "    val_accuracies = []\n",
    "\n",
    "    for fold, (train_idx, val_idx) in enumerate(kf.split(X), 1):\n",
    "        print(f\"\\n📘 Fold {fold}/{num_folds}\")\n",
    "\n",
    "        X_train, X_val = X[train_idx], X[val_idx]\n",
    "        y_train, y_val = y[train_idx], y[val_idx]\n",
    "\n",
    "        model = build_model_fn()\n",
    "\n",
    "        model.fit(X_train, y_train,\n",
    "                  validation_data=(X_val, y_val),\n",
    "                  epochs=epochs,\n",
    "                  batch_size=batch_size,\n",
    "                  verbose=0)\n",
    "\n",
    "        val_acc = model.evaluate(X_val, y_val, verbose=0)[1]\n",
    "        val_accuracies.append(val_acc)\n",
    "        print(f\"✅ Fold {fold} Accuracy: {val_acc:.4f}\")\n",
    "\n",
    "    avg_accuracy = np.mean(val_accuracies)\n",
    "    print(f\"\\n🎯 Average Validation Accuracy: {avg_accuracy:.4f}\")\n",
    "    return val_accuracies"
   ]
  },
  {
   "cell_type": "markdown",
   "id": "b50e4c42",
   "metadata": {
    "heading_collapsed": true
   },
   "source": [
    "## Preprocessing"
   ]
  },
  {
   "cell_type": "code",
   "execution_count": 19,
   "id": "62a22b1a",
   "metadata": {
    "code_folding": [
     2
    ],
    "hidden": true
   },
   "outputs": [],
   "source": [
    "from scipy.signal import butter, filtfilt\n",
    "\n",
    "def low_pass_filter(X, fs_original=300, cutoff_freq=60):\n",
    "    # Design the low-pass filter (Butterworth filter)\n",
    "    nyquist = 0.5 * fs_original  # Nyquist frequency\n",
    "    normal_cutoff = cutoff_freq / nyquist  # Normalize the cutoff frequency\n",
    "    \n",
    "    # Create the low-pass filter\n",
    "    b, a = butter(4, normal_cutoff, btype='low', analog=False)\n",
    "    \n",
    "    # Apply the low-pass filter to each signal (row) in X\n",
    "    filtered_X = []\n",
    "    for signal in X:\n",
    "        # Apply the filter to each signal\n",
    "        filtered_signal = filtfilt(b, a, signal)\n",
    "        \n",
    "        # Trim any extra edge artifacts (in case of filter edge effects)\n",
    "        filtered_signal = filtered_signal[:len(signal)]\n",
    "        \n",
    "        filtered_X.append(filtered_signal)\n",
    "    \n",
    "    # Return as a list of arrays (each signal with its own length)\n",
    "    return filtered_X"
   ]
  },
  {
   "cell_type": "code",
   "execution_count": 20,
   "id": "6718f9bb",
   "metadata": {
    "code_folding": [
     0
    ],
    "hidden": true
   },
   "outputs": [],
   "source": [
    "def downsample_signal(X, fs_original=300, fs_new=120):\n",
    "    downsampled_X = []\n",
    "    \n",
    "    # Down-sample each signal (row) in X individually\n",
    "    for signal in X:\n",
    "        # Calculate the down-sample factor\n",
    "        downsample_factor = fs_original // fs_new\n",
    "        \n",
    "        # Down-sample the signal based on the calculated factor\n",
    "        downsampled_signal = signal[::downsample_factor]\n",
    "        downsampled_X.append(downsampled_signal)\n",
    "    \n",
    "    # Return as a list of downsampled signals (each signal with its own length)\n",
    "    return downsampled_X"
   ]
  },
  {
   "cell_type": "code",
   "execution_count": 21,
   "id": "a0f6e68f",
   "metadata": {
    "code_folding": [
     0
    ],
    "hidden": true
   },
   "outputs": [],
   "source": [
    "def plot_fft(signal, fs=300):\n",
    "    \"\"\"\n",
    "    Calculate and plot the FFT of a signal.\n",
    "    \n",
    "    Parameters:\n",
    "    - signal: The input signal (1D array)\n",
    "    - fs: The sampling frequency (default 300 Hz)\n",
    "    \"\"\"\n",
    "    # Number of samples in the signal\n",
    "    n = len(signal)\n",
    "    \n",
    "    # Compute the FFT\n",
    "    fft_signal = np.fft.fft(signal)\n",
    "    \n",
    "    # Compute the frequencies corresponding to the FFT bins\n",
    "    freqs = np.fft.fftfreq(n, 1/fs)\n",
    "    \n",
    "    # Take the absolute value of the FFT (magnitude)\n",
    "    fft_magnitude = np.abs(fft_signal)\n",
    "    \n",
    "    # Only keep the positive half of the spectrum (real frequencies)\n",
    "    positive_freqs = freqs[:n//2]\n",
    "    positive_fft_magnitude = fft_magnitude[:n//2]\n",
    "    \n",
    "    # Plot the FFT magnitude vs frequency\n",
    "    plt.figure(figsize=(10, 6))\n",
    "    plt.plot(positive_freqs, positive_fft_magnitude)\n",
    "    plt.title('FFT of Signal')\n",
    "    plt.xlabel('Frequency (Hz)')\n",
    "    plt.ylabel('Magnitude')\n",
    "    plt.grid(True)\n",
    "    plt.show()"
   ]
  },
  {
   "cell_type": "markdown",
   "id": "95c309f0",
   "metadata": {},
   "source": [
    "# Execution"
   ]
  },
  {
   "cell_type": "markdown",
   "id": "f776cde5",
   "metadata": {},
   "source": [
    "### Preprocessing"
   ]
  },
  {
   "cell_type": "code",
   "execution_count": 130,
   "id": "5854d14b",
   "metadata": {},
   "outputs": [
    {
     "name": "stdout",
     "output_type": "stream",
     "text": [
      "Before removing \n",
      "\n",
      "Class 0: 758 samples\n",
      "Class 1: 5076 samples\n",
      "Class 2: 2415 samples\n",
      "Class 3: 279 samples\n",
      "\n",
      "After removing \n",
      "\n",
      "Class 0: 758 samples\n",
      "Class 1: 5076 samples\n"
     ]
    }
   ],
   "source": [
    "X = signals_flat\n",
    "y = load_labels()\n",
    "\n",
    "X, y = remove_extra_classes(X, y)"
   ]
  },
  {
   "cell_type": "markdown",
   "id": "89252579",
   "metadata": {},
   "source": [
    "### 2 stream 5s"
   ]
  },
  {
   "cell_type": "code",
   "execution_count": 144,
   "id": "3ede61c2",
   "metadata": {},
   "outputs": [
    {
     "name": "stdout",
     "output_type": "stream",
     "text": [
      "Before removing \n",
      "\n",
      "Class 0: 758 samples\n",
      "Class 1: 5076 samples\n",
      "\n",
      "After removing \n",
      "\n",
      "Class 0: 758 samples\n",
      "Class 1: 5076 samples\n"
     ]
    }
   ],
   "source": [
    "X, y = remove_extra_classes(X, y)\n",
    "\n",
    "X_filtered = low_pass_filter(X=X)\n",
    "\n",
    "X_downsampled = downsample_signal(X=X_filtered)\n",
    "\n",
    "X_normalised = normalize_to_minus1_1(X_downsampled)\n",
    "\n",
    "signal_seconds = 5\n",
    "sampling_freq = 120\n",
    "signal_len = signal_seconds * sampling_freq\n",
    "X = extract_center_5s(signals=X_normalised, target_length=signal_len)"
   ]
  },
  {
   "cell_type": "code",
   "execution_count": 146,
   "id": "598a072c",
   "metadata": {},
   "outputs": [],
   "source": [
    "X_train, X_test, y_train, y_test = sklearn.model_selection.train_test_split(\n",
    "    X, y, test_size=0.2, random_state=42)\n",
    "\n",
    "X_train, y_train = RandomOverSampler().fit_resample(X_train, y_train)"
   ]
  },
  {
   "cell_type": "code",
   "execution_count": null,
   "id": "28ca7b25",
   "metadata": {},
   "outputs": [],
   "source": [
    "y_train = to_categorical(y_train, num_classes=2)\n",
    "y_test = to_categorical(y_test, num_classes=2)"
   ]
  },
  {
   "cell_type": "code",
   "execution_count": 145,
   "id": "d272f87e",
   "metadata": {},
   "outputs": [],
   "source": [
    "X_train = np.array(X_train.tolist(), dtype=np.float32)  \n",
    "X_train = np.expand_dims(X_train, axis=-1)\n",
    "\n",
    "X_test = np.array(X_test.tolist(), dtype=np.float32)  \n",
    "X_test = np.expand_dims(X_test, axis=-1)"
   ]
  },
  {
   "cell_type": "code",
   "execution_count": 126,
   "id": "e34a854f",
   "metadata": {},
   "outputs": [
    {
     "name": "stderr",
     "output_type": "stream",
     "text": [
      "/home/nihad/anaconda3/envs/zavrsni_master/lib/python3.12/site-packages/keras/src/layers/layer.py:940: UserWarning: Layer 'max_pooling1d_229' (of type MaxPooling1D) was passed an input with a mask attached to it. However, this layer does not support masking and will therefore destroy the mask information. Downstream layers will not see the mask.\n",
      "  warnings.warn(\n",
      "/home/nihad/anaconda3/envs/zavrsni_master/lib/python3.12/site-packages/keras/src/layers/layer.py:940: UserWarning: Layer 'max_pooling1d_233' (of type MaxPooling1D) was passed an input with a mask attached to it. However, this layer does not support masking and will therefore destroy the mask information. Downstream layers will not see the mask.\n",
      "  warnings.warn(\n"
     ]
    },
    {
     "name": "stdout",
     "output_type": "stream",
     "text": [
      "Epoch 1/10\n"
     ]
    },
    {
     "name": "stderr",
     "output_type": "stream",
     "text": [
      "/home/nihad/anaconda3/envs/zavrsni_master/lib/python3.12/site-packages/keras/src/layers/layer.py:940: UserWarning: Layer 'conv1d_591' (of type Conv1D) was passed an input with a mask attached to it. However, this layer does not support masking and will therefore destroy the mask information. Downstream layers will not see the mask.\n",
      "  warnings.warn(\n",
      "/home/nihad/anaconda3/envs/zavrsni_master/lib/python3.12/site-packages/keras/src/layers/layer.py:940: UserWarning: Layer 'conv1d_581' (of type Conv1D) was passed an input with a mask attached to it. However, this layer does not support masking and will therefore destroy the mask information. Downstream layers will not see the mask.\n",
      "  warnings.warn(\n",
      "/home/nihad/anaconda3/envs/zavrsni_master/lib/python3.12/site-packages/keras/src/layers/layer.py:940: UserWarning: Layer 'conv1d_592' (of type Conv1D) was passed an input with a mask attached to it. However, this layer does not support masking and will therefore destroy the mask information. Downstream layers will not see the mask.\n",
      "  warnings.warn(\n",
      "/home/nihad/anaconda3/envs/zavrsni_master/lib/python3.12/site-packages/keras/src/layers/layer.py:940: UserWarning: Layer 'conv1d_582' (of type Conv1D) was passed an input with a mask attached to it. However, this layer does not support masking and will therefore destroy the mask information. Downstream layers will not see the mask.\n",
      "  warnings.warn(\n"
     ]
    },
    {
     "name": "stdout",
     "output_type": "stream",
     "text": [
      "\u001b[1m204/204\u001b[0m \u001b[32m━━━━━━━━━━━━━━━━━━━━\u001b[0m\u001b[37m\u001b[0m \u001b[1m63s\u001b[0m 266ms/step - accuracy: 0.5927 - loss: 0.8064 - val_accuracy: 0.0000e+00 - val_loss: 1.2133\n",
      "Epoch 2/10\n",
      "\u001b[1m204/204\u001b[0m \u001b[32m━━━━━━━━━━━━━━━━━━━━\u001b[0m\u001b[37m\u001b[0m \u001b[1m53s\u001b[0m 261ms/step - accuracy: 0.7405 - loss: 0.5564 - val_accuracy: 0.3791 - val_loss: 0.9369\n",
      "Epoch 3/10\n",
      "\u001b[1m204/204\u001b[0m \u001b[32m━━━━━━━━━━━━━━━━━━━━\u001b[0m\u001b[37m\u001b[0m \u001b[1m52s\u001b[0m 257ms/step - accuracy: 0.7836 - loss: 0.4978 - val_accuracy: 0.3687 - val_loss: 1.8753\n",
      "Epoch 4/10\n",
      "\u001b[1m204/204\u001b[0m \u001b[32m━━━━━━━━━━━━━━━━━━━━\u001b[0m\u001b[37m\u001b[0m \u001b[1m52s\u001b[0m 257ms/step - accuracy: 0.8218 - loss: 0.3786 - val_accuracy: 0.6540 - val_loss: 0.6633\n",
      "Epoch 5/10\n",
      "\u001b[1m204/204\u001b[0m \u001b[32m━━━━━━━━━━━━━━━━━━━━\u001b[0m\u001b[37m\u001b[0m \u001b[1m53s\u001b[0m 259ms/step - accuracy: 0.8803 - loss: 0.2789 - val_accuracy: 0.9773 - val_loss: 0.1205\n",
      "Epoch 6/10\n",
      "\u001b[1m204/204\u001b[0m \u001b[32m━━━━━━━━━━━━━━━━━━━━\u001b[0m\u001b[37m\u001b[0m \u001b[1m52s\u001b[0m 257ms/step - accuracy: 0.9084 - loss: 0.2290 - val_accuracy: 0.9638 - val_loss: 0.1165\n",
      "Epoch 7/10\n",
      "\u001b[1m204/204\u001b[0m \u001b[32m━━━━━━━━━━━━━━━━━━━━\u001b[0m\u001b[37m\u001b[0m \u001b[1m55s\u001b[0m 271ms/step - accuracy: 0.9103 - loss: 0.2160 - val_accuracy: 0.6718 - val_loss: 0.8338\n",
      "Epoch 8/10\n",
      "\u001b[1m204/204\u001b[0m \u001b[32m━━━━━━━━━━━━━━━━━━━━\u001b[0m\u001b[37m\u001b[0m \u001b[1m53s\u001b[0m 262ms/step - accuracy: 0.9195 - loss: 0.2068 - val_accuracy: 0.9362 - val_loss: 0.2027\n",
      "Epoch 9/10\n",
      "\u001b[1m204/204\u001b[0m \u001b[32m━━━━━━━━━━━━━━━━━━━━\u001b[0m\u001b[37m\u001b[0m \u001b[1m53s\u001b[0m 261ms/step - accuracy: 0.9303 - loss: 0.1719 - val_accuracy: 0.9871 - val_loss: 0.0851\n",
      "Epoch 10/10\n",
      "\u001b[1m204/204\u001b[0m \u001b[32m━━━━━━━━━━━━━━━━━━━━\u001b[0m\u001b[37m\u001b[0m \u001b[1m53s\u001b[0m 261ms/step - accuracy: 0.9358 - loss: 0.1717 - val_accuracy: 0.9693 - val_loss: 0.1426\n"
     ]
    }
   ],
   "source": [
    "input_size = len(X_train[0])\n",
    "epochs = 10\n",
    "batch_size = 32\n",
    "\n",
    "# model = make_model_conv1D(input_shape=input_size)\n",
    "# model = build_custom_vgg_1d(input_length=input_size, num_classes=2)\n",
    "# model = build_dual_stream_model(input_length=input_size, num_classes=2)\n",
    "model, batch_size = build_model(input_length=input_size, trial=None, tune=False,\n",
    "                dense_units=640, learning_rate=0.0021803189997713648, batch_size=32)\n",
    "\n",
    "# # model.compile(\n",
    "#     optimizer='adam',\n",
    "#     loss='categorical_crossentropy',\n",
    "#     metrics=['accuracy']\n",
    "# )\n",
    "\n",
    "history = model.fit(\n",
    "    X_train,\n",
    "    y_train,\n",
    "    batch_size=batch_size,\n",
    "    epochs=epochs,\n",
    "    validation_split=0.2,\n",
    "    verbose=1,\n",
    ")"
   ]
  },
  {
   "cell_type": "code",
   "execution_count": null,
   "id": "3ce3ac24",
   "metadata": {},
   "outputs": [],
   "source": [
    "val_accs = run_kfold_cross_validation(X=X, y=y, build_model_fn=build_custom_vgg_1d, num_folds=10, epochs=10, batch_size=32)"
   ]
  },
  {
   "cell_type": "code",
   "execution_count": 127,
   "id": "f3b6d346",
   "metadata": {
    "scrolled": true
   },
   "outputs": [
    {
     "name": "stdout",
     "output_type": "stream",
     "text": [
      "\u001b[1m37/37\u001b[0m \u001b[32m━━━━━━━━━━━━━━━━━━━━\u001b[0m\u001b[37m\u001b[0m \u001b[1m3s\u001b[0m 65ms/step\n",
      "Confusion Matrix:\n",
      " [[147  18]\n",
      " [ 87 915]]\n",
      "\n",
      "Overall Accuracy: 0.9100\n",
      "Class 0: Sensitivity = 0.8909, Specificity = 0.9132\n",
      "Class 1: Sensitivity = 0.9132, Specificity = 0.8909\n"
     ]
    }
   ],
   "source": [
    "evaluate_model(model=model, X_test=X_test, y_test=y_test)"
   ]
  },
  {
   "cell_type": "markdown",
   "id": "82e3bcd2",
   "metadata": {
    "heading_collapsed": true
   },
   "source": [
    "### hyperparameter optimization"
   ]
  },
  {
   "cell_type": "code",
   "execution_count": 123,
   "id": "ee907655",
   "metadata": {
    "hidden": true
   },
   "outputs": [
    {
     "name": "stderr",
     "output_type": "stream",
     "text": [
      "[I 2025-05-09 06:24:12,698] A new study created in memory with name: no-name-381f80c4-0193-4a1c-b8c7-769b91905e98\n",
      "/home/nihad/anaconda3/envs/zavrsni_master/lib/python3.12/site-packages/keras/src/layers/layer.py:940: UserWarning: Layer 'max_pooling1d_133' (of type MaxPooling1D) was passed an input with a mask attached to it. However, this layer does not support masking and will therefore destroy the mask information. Downstream layers will not see the mask.\n",
      "  warnings.warn(\n",
      "/home/nihad/anaconda3/envs/zavrsni_master/lib/python3.12/site-packages/keras/src/layers/layer.py:940: UserWarning: Layer 'max_pooling1d_137' (of type MaxPooling1D) was passed an input with a mask attached to it. However, this layer does not support masking and will therefore destroy the mask information. Downstream layers will not see the mask.\n",
      "  warnings.warn(\n",
      "/home/nihad/anaconda3/envs/zavrsni_master/lib/python3.12/site-packages/keras/src/layers/layer.py:940: UserWarning: Layer 'conv1d_351' (of type Conv1D) was passed an input with a mask attached to it. However, this layer does not support masking and will therefore destroy the mask information. Downstream layers will not see the mask.\n",
      "  warnings.warn(\n",
      "/home/nihad/anaconda3/envs/zavrsni_master/lib/python3.12/site-packages/keras/src/layers/layer.py:940: UserWarning: Layer 'conv1d_341' (of type Conv1D) was passed an input with a mask attached to it. However, this layer does not support masking and will therefore destroy the mask information. Downstream layers will not see the mask.\n",
      "  warnings.warn(\n",
      "/home/nihad/anaconda3/envs/zavrsni_master/lib/python3.12/site-packages/keras/src/layers/layer.py:940: UserWarning: Layer 'conv1d_352' (of type Conv1D) was passed an input with a mask attached to it. However, this layer does not support masking and will therefore destroy the mask information. Downstream layers will not see the mask.\n",
      "  warnings.warn(\n",
      "/home/nihad/anaconda3/envs/zavrsni_master/lib/python3.12/site-packages/keras/src/layers/layer.py:940: UserWarning: Layer 'conv1d_342' (of type Conv1D) was passed an input with a mask attached to it. However, this layer does not support masking and will therefore destroy the mask information. Downstream layers will not see the mask.\n",
      "  warnings.warn(\n"
     ]
    },
    {
     "name": "stdout",
     "output_type": "stream",
     "text": [
      "\u001b[1m37/37\u001b[0m \u001b[32m━━━━━━━━━━━━━━━━━━━━\u001b[0m\u001b[37m\u001b[0m \u001b[1m3s\u001b[0m 67ms/step\n"
     ]
    },
    {
     "name": "stderr",
     "output_type": "stream",
     "text": [
      "[I 2025-05-09 06:34:58,580] Trial 0 finished with value: 0.4764353041988003 and parameters: {'dense_units': 1024, 'lr': 0.0005146277970474038, 'batch_size': 32}. Best is trial 0 with value: 0.4764353041988003.\n",
      "/home/nihad/anaconda3/envs/zavrsni_master/lib/python3.12/site-packages/keras/src/layers/layer.py:940: UserWarning: Layer 'max_pooling1d_141' (of type MaxPooling1D) was passed an input with a mask attached to it. However, this layer does not support masking and will therefore destroy the mask information. Downstream layers will not see the mask.\n",
      "  warnings.warn(\n",
      "/home/nihad/anaconda3/envs/zavrsni_master/lib/python3.12/site-packages/keras/src/layers/layer.py:940: UserWarning: Layer 'max_pooling1d_145' (of type MaxPooling1D) was passed an input with a mask attached to it. However, this layer does not support masking and will therefore destroy the mask information. Downstream layers will not see the mask.\n",
      "  warnings.warn(\n",
      "/home/nihad/anaconda3/envs/zavrsni_master/lib/python3.12/site-packages/keras/src/layers/layer.py:940: UserWarning: Layer 'conv1d_371' (of type Conv1D) was passed an input with a mask attached to it. However, this layer does not support masking and will therefore destroy the mask information. Downstream layers will not see the mask.\n",
      "  warnings.warn(\n",
      "/home/nihad/anaconda3/envs/zavrsni_master/lib/python3.12/site-packages/keras/src/layers/layer.py:940: UserWarning: Layer 'conv1d_361' (of type Conv1D) was passed an input with a mask attached to it. However, this layer does not support masking and will therefore destroy the mask information. Downstream layers will not see the mask.\n",
      "  warnings.warn(\n",
      "/home/nihad/anaconda3/envs/zavrsni_master/lib/python3.12/site-packages/keras/src/layers/layer.py:940: UserWarning: Layer 'conv1d_372' (of type Conv1D) was passed an input with a mask attached to it. However, this layer does not support masking and will therefore destroy the mask information. Downstream layers will not see the mask.\n",
      "  warnings.warn(\n",
      "/home/nihad/anaconda3/envs/zavrsni_master/lib/python3.12/site-packages/keras/src/layers/layer.py:940: UserWarning: Layer 'conv1d_362' (of type Conv1D) was passed an input with a mask attached to it. However, this layer does not support masking and will therefore destroy the mask information. Downstream layers will not see the mask.\n",
      "  warnings.warn(\n"
     ]
    },
    {
     "name": "stdout",
     "output_type": "stream",
     "text": [
      "\u001b[1m37/37\u001b[0m \u001b[32m━━━━━━━━━━━━━━━━━━━━\u001b[0m\u001b[37m\u001b[0m \u001b[1m3s\u001b[0m 67ms/step\n"
     ]
    },
    {
     "name": "stderr",
     "output_type": "stream",
     "text": [
      "[I 2025-05-09 06:58:09,055] Trial 1 finished with value: 0.07626392459297349 and parameters: {'dense_units': 640, 'lr': 0.00014879220988337817, 'batch_size': 64}. Best is trial 1 with value: 0.07626392459297349.\n",
      "/home/nihad/anaconda3/envs/zavrsni_master/lib/python3.12/site-packages/keras/src/layers/layer.py:940: UserWarning: Layer 'max_pooling1d_149' (of type MaxPooling1D) was passed an input with a mask attached to it. However, this layer does not support masking and will therefore destroy the mask information. Downstream layers will not see the mask.\n",
      "  warnings.warn(\n",
      "/home/nihad/anaconda3/envs/zavrsni_master/lib/python3.12/site-packages/keras/src/layers/layer.py:940: UserWarning: Layer 'max_pooling1d_153' (of type MaxPooling1D) was passed an input with a mask attached to it. However, this layer does not support masking and will therefore destroy the mask information. Downstream layers will not see the mask.\n",
      "  warnings.warn(\n",
      "/home/nihad/anaconda3/envs/zavrsni_master/lib/python3.12/site-packages/keras/src/layers/layer.py:940: UserWarning: Layer 'conv1d_391' (of type Conv1D) was passed an input with a mask attached to it. However, this layer does not support masking and will therefore destroy the mask information. Downstream layers will not see the mask.\n",
      "  warnings.warn(\n",
      "/home/nihad/anaconda3/envs/zavrsni_master/lib/python3.12/site-packages/keras/src/layers/layer.py:940: UserWarning: Layer 'conv1d_381' (of type Conv1D) was passed an input with a mask attached to it. However, this layer does not support masking and will therefore destroy the mask information. Downstream layers will not see the mask.\n",
      "  warnings.warn(\n",
      "/home/nihad/anaconda3/envs/zavrsni_master/lib/python3.12/site-packages/keras/src/layers/layer.py:940: UserWarning: Layer 'conv1d_392' (of type Conv1D) was passed an input with a mask attached to it. However, this layer does not support masking and will therefore destroy the mask information. Downstream layers will not see the mask.\n",
      "  warnings.warn(\n",
      "/home/nihad/anaconda3/envs/zavrsni_master/lib/python3.12/site-packages/keras/src/layers/layer.py:940: UserWarning: Layer 'conv1d_382' (of type Conv1D) was passed an input with a mask attached to it. However, this layer does not support masking and will therefore destroy the mask information. Downstream layers will not see the mask.\n",
      "  warnings.warn(\n"
     ]
    },
    {
     "name": "stdout",
     "output_type": "stream",
     "text": [
      "\u001b[1m37/37\u001b[0m \u001b[32m━━━━━━━━━━━━━━━━━━━━\u001b[0m\u001b[37m\u001b[0m \u001b[1m3s\u001b[0m 66ms/step\n"
     ]
    },
    {
     "name": "stderr",
     "output_type": "stream",
     "text": [
      "[I 2025-05-09 07:08:44,935] Trial 2 finished with value: 0.0856898029134533 and parameters: {'dense_units': 512, 'lr': 0.0002673203090819144, 'batch_size': 64}. Best is trial 1 with value: 0.07626392459297349.\n",
      "/home/nihad/anaconda3/envs/zavrsni_master/lib/python3.12/site-packages/keras/src/layers/layer.py:940: UserWarning: Layer 'max_pooling1d_157' (of type MaxPooling1D) was passed an input with a mask attached to it. However, this layer does not support masking and will therefore destroy the mask information. Downstream layers will not see the mask.\n",
      "  warnings.warn(\n",
      "/home/nihad/anaconda3/envs/zavrsni_master/lib/python3.12/site-packages/keras/src/layers/layer.py:940: UserWarning: Layer 'max_pooling1d_161' (of type MaxPooling1D) was passed an input with a mask attached to it. However, this layer does not support masking and will therefore destroy the mask information. Downstream layers will not see the mask.\n",
      "  warnings.warn(\n",
      "/home/nihad/anaconda3/envs/zavrsni_master/lib/python3.12/site-packages/keras/src/layers/layer.py:940: UserWarning: Layer 'conv1d_411' (of type Conv1D) was passed an input with a mask attached to it. However, this layer does not support masking and will therefore destroy the mask information. Downstream layers will not see the mask.\n",
      "  warnings.warn(\n",
      "/home/nihad/anaconda3/envs/zavrsni_master/lib/python3.12/site-packages/keras/src/layers/layer.py:940: UserWarning: Layer 'conv1d_401' (of type Conv1D) was passed an input with a mask attached to it. However, this layer does not support masking and will therefore destroy the mask information. Downstream layers will not see the mask.\n",
      "  warnings.warn(\n",
      "/home/nihad/anaconda3/envs/zavrsni_master/lib/python3.12/site-packages/keras/src/layers/layer.py:940: UserWarning: Layer 'conv1d_412' (of type Conv1D) was passed an input with a mask attached to it. However, this layer does not support masking and will therefore destroy the mask information. Downstream layers will not see the mask.\n",
      "  warnings.warn(\n",
      "/home/nihad/anaconda3/envs/zavrsni_master/lib/python3.12/site-packages/keras/src/layers/layer.py:940: UserWarning: Layer 'conv1d_402' (of type Conv1D) was passed an input with a mask attached to it. However, this layer does not support masking and will therefore destroy the mask information. Downstream layers will not see the mask.\n",
      "  warnings.warn(\n"
     ]
    },
    {
     "name": "stdout",
     "output_type": "stream",
     "text": [
      "\u001b[1m37/37\u001b[0m \u001b[32m━━━━━━━━━━━━━━━━━━━━\u001b[0m\u001b[37m\u001b[0m \u001b[1m3s\u001b[0m 67ms/step\n"
     ]
    },
    {
     "name": "stderr",
     "output_type": "stream",
     "text": [
      "[I 2025-05-09 07:42:30,379] Trial 3 finished with value: 0.07197943444730082 and parameters: {'dense_units': 640, 'lr': 0.0021803189997713648, 'batch_size': 32}. Best is trial 3 with value: 0.07197943444730082.\n",
      "/home/nihad/anaconda3/envs/zavrsni_master/lib/python3.12/site-packages/keras/src/layers/layer.py:940: UserWarning: Layer 'max_pooling1d_165' (of type MaxPooling1D) was passed an input with a mask attached to it. However, this layer does not support masking and will therefore destroy the mask information. Downstream layers will not see the mask.\n",
      "  warnings.warn(\n",
      "/home/nihad/anaconda3/envs/zavrsni_master/lib/python3.12/site-packages/keras/src/layers/layer.py:940: UserWarning: Layer 'max_pooling1d_169' (of type MaxPooling1D) was passed an input with a mask attached to it. However, this layer does not support masking and will therefore destroy the mask information. Downstream layers will not see the mask.\n",
      "  warnings.warn(\n",
      "/home/nihad/anaconda3/envs/zavrsni_master/lib/python3.12/site-packages/keras/src/layers/layer.py:940: UserWarning: Layer 'conv1d_431' (of type Conv1D) was passed an input with a mask attached to it. However, this layer does not support masking and will therefore destroy the mask information. Downstream layers will not see the mask.\n",
      "  warnings.warn(\n",
      "/home/nihad/anaconda3/envs/zavrsni_master/lib/python3.12/site-packages/keras/src/layers/layer.py:940: UserWarning: Layer 'conv1d_421' (of type Conv1D) was passed an input with a mask attached to it. However, this layer does not support masking and will therefore destroy the mask information. Downstream layers will not see the mask.\n",
      "  warnings.warn(\n",
      "/home/nihad/anaconda3/envs/zavrsni_master/lib/python3.12/site-packages/keras/src/layers/layer.py:940: UserWarning: Layer 'conv1d_432' (of type Conv1D) was passed an input with a mask attached to it. However, this layer does not support masking and will therefore destroy the mask information. Downstream layers will not see the mask.\n",
      "  warnings.warn(\n",
      "/home/nihad/anaconda3/envs/zavrsni_master/lib/python3.12/site-packages/keras/src/layers/layer.py:940: UserWarning: Layer 'conv1d_422' (of type Conv1D) was passed an input with a mask attached to it. However, this layer does not support masking and will therefore destroy the mask information. Downstream layers will not see the mask.\n",
      "  warnings.warn(\n"
     ]
    },
    {
     "name": "stdout",
     "output_type": "stream",
     "text": [
      "\u001b[1m37/37\u001b[0m \u001b[32m━━━━━━━━━━━━━━━━━━━━\u001b[0m\u001b[37m\u001b[0m \u001b[1m3s\u001b[0m 74ms/step\n"
     ]
    },
    {
     "name": "stderr",
     "output_type": "stream",
     "text": [
      "[I 2025-05-09 09:06:50,564] Trial 4 finished with value: 0.08311910882604967 and parameters: {'dense_units': 128, 'lr': 0.0003152058582765441, 'batch_size': 32}. Best is trial 3 with value: 0.07197943444730082.\n",
      "/home/nihad/anaconda3/envs/zavrsni_master/lib/python3.12/site-packages/keras/src/layers/layer.py:940: UserWarning: Layer 'max_pooling1d_173' (of type MaxPooling1D) was passed an input with a mask attached to it. However, this layer does not support masking and will therefore destroy the mask information. Downstream layers will not see the mask.\n",
      "  warnings.warn(\n",
      "/home/nihad/anaconda3/envs/zavrsni_master/lib/python3.12/site-packages/keras/src/layers/layer.py:940: UserWarning: Layer 'max_pooling1d_177' (of type MaxPooling1D) was passed an input with a mask attached to it. However, this layer does not support masking and will therefore destroy the mask information. Downstream layers will not see the mask.\n",
      "  warnings.warn(\n",
      "/home/nihad/anaconda3/envs/zavrsni_master/lib/python3.12/site-packages/keras/src/layers/layer.py:940: UserWarning: Layer 'conv1d_451' (of type Conv1D) was passed an input with a mask attached to it. However, this layer does not support masking and will therefore destroy the mask information. Downstream layers will not see the mask.\n",
      "  warnings.warn(\n",
      "/home/nihad/anaconda3/envs/zavrsni_master/lib/python3.12/site-packages/keras/src/layers/layer.py:940: UserWarning: Layer 'conv1d_441' (of type Conv1D) was passed an input with a mask attached to it. However, this layer does not support masking and will therefore destroy the mask information. Downstream layers will not see the mask.\n",
      "  warnings.warn(\n",
      "/home/nihad/anaconda3/envs/zavrsni_master/lib/python3.12/site-packages/keras/src/layers/layer.py:940: UserWarning: Layer 'conv1d_452' (of type Conv1D) was passed an input with a mask attached to it. However, this layer does not support masking and will therefore destroy the mask information. Downstream layers will not see the mask.\n",
      "  warnings.warn(\n",
      "/home/nihad/anaconda3/envs/zavrsni_master/lib/python3.12/site-packages/keras/src/layers/layer.py:940: UserWarning: Layer 'conv1d_442' (of type Conv1D) was passed an input with a mask attached to it. However, this layer does not support masking and will therefore destroy the mask information. Downstream layers will not see the mask.\n",
      "  warnings.warn(\n"
     ]
    },
    {
     "name": "stdout",
     "output_type": "stream",
     "text": [
      "\u001b[1m37/37\u001b[0m \u001b[32m━━━━━━━━━━━━━━━━━━━━\u001b[0m\u001b[37m\u001b[0m \u001b[1m3s\u001b[0m 65ms/step\n"
     ]
    },
    {
     "name": "stderr",
     "output_type": "stream",
     "text": [
      "[I 2025-05-09 09:22:50,752] Trial 5 finished with value: 0.39331619537275064 and parameters: {'dense_units': 128, 'lr': 0.002642705947807724, 'batch_size': 32}. Best is trial 3 with value: 0.07197943444730082.\n",
      "/home/nihad/anaconda3/envs/zavrsni_master/lib/python3.12/site-packages/keras/src/layers/layer.py:940: UserWarning: Layer 'max_pooling1d_181' (of type MaxPooling1D) was passed an input with a mask attached to it. However, this layer does not support masking and will therefore destroy the mask information. Downstream layers will not see the mask.\n",
      "  warnings.warn(\n",
      "/home/nihad/anaconda3/envs/zavrsni_master/lib/python3.12/site-packages/keras/src/layers/layer.py:940: UserWarning: Layer 'max_pooling1d_185' (of type MaxPooling1D) was passed an input with a mask attached to it. However, this layer does not support masking and will therefore destroy the mask information. Downstream layers will not see the mask.\n",
      "  warnings.warn(\n",
      "/home/nihad/anaconda3/envs/zavrsni_master/lib/python3.12/site-packages/keras/src/layers/layer.py:940: UserWarning: Layer 'conv1d_471' (of type Conv1D) was passed an input with a mask attached to it. However, this layer does not support masking and will therefore destroy the mask information. Downstream layers will not see the mask.\n",
      "  warnings.warn(\n",
      "/home/nihad/anaconda3/envs/zavrsni_master/lib/python3.12/site-packages/keras/src/layers/layer.py:940: UserWarning: Layer 'conv1d_461' (of type Conv1D) was passed an input with a mask attached to it. However, this layer does not support masking and will therefore destroy the mask information. Downstream layers will not see the mask.\n",
      "  warnings.warn(\n",
      "/home/nihad/anaconda3/envs/zavrsni_master/lib/python3.12/site-packages/keras/src/layers/layer.py:940: UserWarning: Layer 'conv1d_472' (of type Conv1D) was passed an input with a mask attached to it. However, this layer does not support masking and will therefore destroy the mask information. Downstream layers will not see the mask.\n",
      "  warnings.warn(\n",
      "/home/nihad/anaconda3/envs/zavrsni_master/lib/python3.12/site-packages/keras/src/layers/layer.py:940: UserWarning: Layer 'conv1d_462' (of type Conv1D) was passed an input with a mask attached to it. However, this layer does not support masking and will therefore destroy the mask information. Downstream layers will not see the mask.\n",
      "  warnings.warn(\n"
     ]
    },
    {
     "name": "stdout",
     "output_type": "stream",
     "text": [
      "\u001b[1m37/37\u001b[0m \u001b[32m━━━━━━━━━━━━━━━━━━━━\u001b[0m\u001b[37m\u001b[0m \u001b[1m3s\u001b[0m 67ms/step\n"
     ]
    },
    {
     "name": "stderr",
     "output_type": "stream",
     "text": [
      "[I 2025-05-09 09:34:49,287] Trial 6 finished with value: 0.078834618680377 and parameters: {'dense_units': 512, 'lr': 0.0013557178513799591, 'batch_size': 64}. Best is trial 3 with value: 0.07197943444730082.\n",
      "/home/nihad/anaconda3/envs/zavrsni_master/lib/python3.12/site-packages/keras/src/layers/layer.py:940: UserWarning: Layer 'max_pooling1d_189' (of type MaxPooling1D) was passed an input with a mask attached to it. However, this layer does not support masking and will therefore destroy the mask information. Downstream layers will not see the mask.\n",
      "  warnings.warn(\n",
      "/home/nihad/anaconda3/envs/zavrsni_master/lib/python3.12/site-packages/keras/src/layers/layer.py:940: UserWarning: Layer 'max_pooling1d_193' (of type MaxPooling1D) was passed an input with a mask attached to it. However, this layer does not support masking and will therefore destroy the mask information. Downstream layers will not see the mask.\n",
      "  warnings.warn(\n",
      "/home/nihad/anaconda3/envs/zavrsni_master/lib/python3.12/site-packages/keras/src/layers/layer.py:940: UserWarning: Layer 'conv1d_491' (of type Conv1D) was passed an input with a mask attached to it. However, this layer does not support masking and will therefore destroy the mask information. Downstream layers will not see the mask.\n",
      "  warnings.warn(\n",
      "/home/nihad/anaconda3/envs/zavrsni_master/lib/python3.12/site-packages/keras/src/layers/layer.py:940: UserWarning: Layer 'conv1d_481' (of type Conv1D) was passed an input with a mask attached to it. However, this layer does not support masking and will therefore destroy the mask information. Downstream layers will not see the mask.\n",
      "  warnings.warn(\n",
      "/home/nihad/anaconda3/envs/zavrsni_master/lib/python3.12/site-packages/keras/src/layers/layer.py:940: UserWarning: Layer 'conv1d_492' (of type Conv1D) was passed an input with a mask attached to it. However, this layer does not support masking and will therefore destroy the mask information. Downstream layers will not see the mask.\n",
      "  warnings.warn(\n",
      "/home/nihad/anaconda3/envs/zavrsni_master/lib/python3.12/site-packages/keras/src/layers/layer.py:940: UserWarning: Layer 'conv1d_482' (of type Conv1D) was passed an input with a mask attached to it. However, this layer does not support masking and will therefore destroy the mask information. Downstream layers will not see the mask.\n",
      "  warnings.warn(\n"
     ]
    },
    {
     "name": "stdout",
     "output_type": "stream",
     "text": [
      "\u001b[1m37/37\u001b[0m \u001b[32m━━━━━━━━━━━━━━━━━━━━\u001b[0m\u001b[37m\u001b[0m \u001b[1m3s\u001b[0m 72ms/step\n"
     ]
    },
    {
     "name": "stderr",
     "output_type": "stream",
     "text": [
      "[I 2025-05-09 09:46:53,205] Trial 7 finished with value: 0.11139674378748932 and parameters: {'dense_units': 896, 'lr': 0.005257346380436745, 'batch_size': 64}. Best is trial 3 with value: 0.07197943444730082.\n",
      "/home/nihad/anaconda3/envs/zavrsni_master/lib/python3.12/site-packages/keras/src/layers/layer.py:940: UserWarning: Layer 'max_pooling1d_197' (of type MaxPooling1D) was passed an input with a mask attached to it. However, this layer does not support masking and will therefore destroy the mask information. Downstream layers will not see the mask.\n",
      "  warnings.warn(\n",
      "/home/nihad/anaconda3/envs/zavrsni_master/lib/python3.12/site-packages/keras/src/layers/layer.py:940: UserWarning: Layer 'max_pooling1d_201' (of type MaxPooling1D) was passed an input with a mask attached to it. However, this layer does not support masking and will therefore destroy the mask information. Downstream layers will not see the mask.\n",
      "  warnings.warn(\n",
      "/home/nihad/anaconda3/envs/zavrsni_master/lib/python3.12/site-packages/keras/src/layers/layer.py:940: UserWarning: Layer 'conv1d_511' (of type Conv1D) was passed an input with a mask attached to it. However, this layer does not support masking and will therefore destroy the mask information. Downstream layers will not see the mask.\n",
      "  warnings.warn(\n",
      "/home/nihad/anaconda3/envs/zavrsni_master/lib/python3.12/site-packages/keras/src/layers/layer.py:940: UserWarning: Layer 'conv1d_501' (of type Conv1D) was passed an input with a mask attached to it. However, this layer does not support masking and will therefore destroy the mask information. Downstream layers will not see the mask.\n",
      "  warnings.warn(\n",
      "/home/nihad/anaconda3/envs/zavrsni_master/lib/python3.12/site-packages/keras/src/layers/layer.py:940: UserWarning: Layer 'conv1d_512' (of type Conv1D) was passed an input with a mask attached to it. However, this layer does not support masking and will therefore destroy the mask information. Downstream layers will not see the mask.\n",
      "  warnings.warn(\n",
      "/home/nihad/anaconda3/envs/zavrsni_master/lib/python3.12/site-packages/keras/src/layers/layer.py:940: UserWarning: Layer 'conv1d_502' (of type Conv1D) was passed an input with a mask attached to it. However, this layer does not support masking and will therefore destroy the mask information. Downstream layers will not see the mask.\n",
      "  warnings.warn(\n"
     ]
    },
    {
     "name": "stdout",
     "output_type": "stream",
     "text": [
      "\u001b[1m37/37\u001b[0m \u001b[32m━━━━━━━━━━━━━━━━━━━━\u001b[0m\u001b[37m\u001b[0m \u001b[1m3s\u001b[0m 67ms/step\n"
     ]
    },
    {
     "name": "stderr",
     "output_type": "stream",
     "text": [
      "[I 2025-05-09 09:58:44,096] Trial 8 finished with value: 0.1053984575835476 and parameters: {'dense_units': 1024, 'lr': 0.0007271749576338845, 'batch_size': 64}. Best is trial 3 with value: 0.07197943444730082.\n",
      "/home/nihad/anaconda3/envs/zavrsni_master/lib/python3.12/site-packages/keras/src/layers/layer.py:940: UserWarning: Layer 'max_pooling1d_205' (of type MaxPooling1D) was passed an input with a mask attached to it. However, this layer does not support masking and will therefore destroy the mask information. Downstream layers will not see the mask.\n",
      "  warnings.warn(\n",
      "/home/nihad/anaconda3/envs/zavrsni_master/lib/python3.12/site-packages/keras/src/layers/layer.py:940: UserWarning: Layer 'max_pooling1d_209' (of type MaxPooling1D) was passed an input with a mask attached to it. However, this layer does not support masking and will therefore destroy the mask information. Downstream layers will not see the mask.\n",
      "  warnings.warn(\n",
      "/home/nihad/anaconda3/envs/zavrsni_master/lib/python3.12/site-packages/keras/src/layers/layer.py:940: UserWarning: Layer 'conv1d_531' (of type Conv1D) was passed an input with a mask attached to it. However, this layer does not support masking and will therefore destroy the mask information. Downstream layers will not see the mask.\n",
      "  warnings.warn(\n",
      "/home/nihad/anaconda3/envs/zavrsni_master/lib/python3.12/site-packages/keras/src/layers/layer.py:940: UserWarning: Layer 'conv1d_521' (of type Conv1D) was passed an input with a mask attached to it. However, this layer does not support masking and will therefore destroy the mask information. Downstream layers will not see the mask.\n",
      "  warnings.warn(\n",
      "/home/nihad/anaconda3/envs/zavrsni_master/lib/python3.12/site-packages/keras/src/layers/layer.py:940: UserWarning: Layer 'conv1d_532' (of type Conv1D) was passed an input with a mask attached to it. However, this layer does not support masking and will therefore destroy the mask information. Downstream layers will not see the mask.\n",
      "  warnings.warn(\n",
      "/home/nihad/anaconda3/envs/zavrsni_master/lib/python3.12/site-packages/keras/src/layers/layer.py:940: UserWarning: Layer 'conv1d_522' (of type Conv1D) was passed an input with a mask attached to it. However, this layer does not support masking and will therefore destroy the mask information. Downstream layers will not see the mask.\n",
      "  warnings.warn(\n"
     ]
    },
    {
     "name": "stdout",
     "output_type": "stream",
     "text": [
      "\u001b[1m37/37\u001b[0m \u001b[32m━━━━━━━━━━━━━━━━━━━━\u001b[0m\u001b[37m\u001b[0m \u001b[1m3s\u001b[0m 72ms/step\n"
     ]
    },
    {
     "name": "stderr",
     "output_type": "stream",
     "text": [
      "[I 2025-05-09 10:10:05,391] Trial 9 finished with value: 0.13024850042844904 and parameters: {'dense_units': 128, 'lr': 0.008809275311094086, 'batch_size': 32}. Best is trial 3 with value: 0.07197943444730082.\n"
     ]
    },
    {
     "name": "stdout",
     "output_type": "stream",
     "text": [
      "Best trial:\n",
      "  Accuracy: 92.80%\n",
      "  Params:  {'dense_units': 640, 'lr': 0.0021803189997713648, 'batch_size': 32}\n"
     ]
    }
   ],
   "source": [
    "import optuna\n",
    "\n",
    "X_data = X\n",
    "y_data = y\n",
    "\n",
    "study = optuna.create_study(direction=\"minimize\")\n",
    "study.optimize(objective, n_trials=10)\n",
    "\n",
    "print(\"Best trial:\")\n",
    "print(\"  Accuracy: {:.2f}%\".format((1.0 - study.best_value) * 100))\n",
    "print(\"  Params: \", study.best_params)"
   ]
  },
  {
   "cell_type": "markdown",
   "id": "3fe2bd80",
   "metadata": {},
   "source": [
    "### PCA"
   ]
  },
  {
   "cell_type": "code",
   "execution_count": 129,
   "id": "208e6d05",
   "metadata": {},
   "outputs": [
    {
     "data": {
      "text/plain": [
       "array([1, 1, 1, ..., 1, 1, 1], dtype=int8)"
      ]
     },
     "execution_count": 129,
     "metadata": {},
     "output_type": "execute_result"
    }
   ],
   "source": []
  },
  {
   "cell_type": "code",
   "execution_count": 150,
   "id": "3d29d822",
   "metadata": {},
   "outputs": [
    {
     "name": "stderr",
     "output_type": "stream",
     "text": [
      "/home/nihad/anaconda3/envs/zavrsni_master/lib/python3.12/site-packages/keras/src/layers/layer.py:940: UserWarning: Layer 'conv1d_591' (of type Conv1D) was passed an input with a mask attached to it. However, this layer does not support masking and will therefore destroy the mask information. Downstream layers will not see the mask.\n",
      "  warnings.warn(\n",
      "/home/nihad/anaconda3/envs/zavrsni_master/lib/python3.12/site-packages/keras/src/layers/layer.py:940: UserWarning: Layer 'conv1d_581' (of type Conv1D) was passed an input with a mask attached to it. However, this layer does not support masking and will therefore destroy the mask information. Downstream layers will not see the mask.\n",
      "  warnings.warn(\n",
      "/home/nihad/anaconda3/envs/zavrsni_master/lib/python3.12/site-packages/keras/src/layers/layer.py:940: UserWarning: Layer 'conv1d_592' (of type Conv1D) was passed an input with a mask attached to it. However, this layer does not support masking and will therefore destroy the mask information. Downstream layers will not see the mask.\n",
      "  warnings.warn(\n",
      "/home/nihad/anaconda3/envs/zavrsni_master/lib/python3.12/site-packages/keras/src/layers/layer.py:940: UserWarning: Layer 'conv1d_582' (of type Conv1D) was passed an input with a mask attached to it. However, this layer does not support masking and will therefore destroy the mask information. Downstream layers will not see the mask.\n",
      "  warnings.warn(\n",
      "/home/nihad/anaconda3/envs/zavrsni_master/lib/python3.12/site-packages/keras/src/layers/layer.py:940: UserWarning: Layer 'max_pooling1d_233' (of type MaxPooling1D) was passed an input with a mask attached to it. However, this layer does not support masking and will therefore destroy the mask information. Downstream layers will not see the mask.\n",
      "  warnings.warn(\n",
      "/home/nihad/anaconda3/envs/zavrsni_master/lib/python3.12/site-packages/keras/src/layers/layer.py:940: UserWarning: Layer 'max_pooling1d_229' (of type MaxPooling1D) was passed an input with a mask attached to it. However, this layer does not support masking and will therefore destroy the mask information. Downstream layers will not see the mask.\n",
      "  warnings.warn(\n"
     ]
    },
    {
     "name": "stdout",
     "output_type": "stream",
     "text": [
      "Explained variance by each of 5 principal components:\n",
      "PC1: 0.8849\n",
      "PC2: 0.1120\n",
      "PC3: 0.0012\n",
      "PC4: 0.0007\n",
      "PC5: 0.0004\n",
      "\n",
      "Total information coverage (5 PCs): 0.9992\n"
     ]
    },
    {
     "data": {
      "image/png": "[encoded data removed]",
      "text/plain": [
       "<Figure size 600x400 with 1 Axes>"
      ]
     },
     "metadata": {},
     "output_type": "display_data"
    }
   ],
   "source": [
    "import numpy as np\n",
    "from sklearn.decomposition import PCA\n",
    "import matplotlib.pyplot as plt\n",
    "from tensorflow.keras.models import Model\n",
    "\n",
    "# Step 1: Extract output of last FC layer (before sigmoid)\n",
    "feature_layer = model.layers[-2].output\n",
    "feature_extractor = Model(inputs=model.input, outputs=feature_layer)\n",
    "\n",
    "# Step 2: Get features for entire test set\n",
    "features = feature_extractor.predict(X_test, verbose=0)  # Shape (N, D)\n",
    "\n",
    "# Step 3: Apply PCA to reduce to 5 components\n",
    "pca = PCA(n_components=5)\n",
    "reduced_features = pca.fit_transform(features)\n",
    "\n",
    "# Step 4: Print explained variance\n",
    "explained_variance = pca.explained_variance_ratio_\n",
    "cumulative_variance = np.sum(explained_variance)\n",
    "\n",
    "print(\"Explained variance by each of 5 principal components:\")\n",
    "for i, ratio in enumerate(explained_variance, start=1):\n",
    "    print(f\"PC{i}: {ratio:.4f}\")\n",
    "\n",
    "print(f\"\\nTotal information coverage (5 PCs): {cumulative_variance:.4f}\")\n",
    "\n",
    "# Step 5: Optional 2D scatter plot for PC1 vs PC2\n",
    "plt.figure(figsize=(6, 4))\n",
    "plt.scatter(reduced_features[y_test == 0, 0], reduced_features[y_test == 0, 1],\n",
    "            label=\"Normal\", alpha=0.6, color=\"green\")\n",
    "plt.scatter(reduced_features[y_test == 1, 0], reduced_features[y_test == 1, 1],\n",
    "            label=\"AF\", alpha=0.6, color=\"red\")\n",
    "plt.xlabel(\"PC1\")\n",
    "plt.ylabel(\"PC2\")\n",
    "plt.title(\"PCA of Last FC Layer Features (Test Set)\")\n",
    "plt.legend()\n",
    "plt.grid(True)\n",
    "plt.tight_layout()\n",
    "plt.show()\n"
   ]
  },
  {
   "cell_type": "code",
   "execution_count": 160,
   "id": "db6686ab",
   "metadata": {},
   "outputs": [],
   "source": [
    "from sklearn.decomposition import PCA\n",
    "import matplotlib.pyplot as plt\n",
    "from tensorflow.keras.models import Model\n",
    "\n",
    "def extract_features_by_layer_indices(model, X, y, layer_indices):\n",
    "    \"\"\"\n",
    "    Extracts features from specific Conv/FC layer indices (based on Conv/FC count, not layer index).\n",
    "    Returns a dict {layer_name: reduced_features}\n",
    "    \"\"\"\n",
    "    features_dict = {}\n",
    "    conv_fc_count = 0\n",
    "    selected_outputs = []\n",
    "    selected_names = []\n",
    "\n",
    "    for layer in model.layers:\n",
    "        if isinstance(layer, (tf.keras.layers.Conv1D, tf.keras.layers.Dense, MaskedConv1D)):\n",
    "            conv_fc_count += 1\n",
    "            if conv_fc_count in layer_indices:\n",
    "                selected_outputs.append(layer.output)\n",
    "                selected_names.append(f\"Layer{conv_fc_count}_{layer.name}\")\n",
    "\n",
    "    feature_model = Model(inputs=model.input, outputs=selected_outputs)\n",
    "    features_list = feature_model.predict(X, verbose=0)\n",
    "\n",
    "    for name, feats in zip(selected_names, features_list):\n",
    "        if len(feats.shape) == 3:\n",
    "            feats = tf.reduce_mean(feats, axis=1).numpy()\n",
    "        elif len(feats.shape) == 1:\n",
    "            feats = feats.reshape(-1, 1)\n",
    "\n",
    "        if feats.shape[1] >= 5:\n",
    "            pca = PCA(n_components=5)\n",
    "            reduced = pca.fit_transform(feats)\n",
    "            coverage = np.sum(pca.explained_variance_ratio_)\n",
    "            features_dict[name] = (reduced, coverage)\n",
    "            print(f\"{name}: {coverage:.4f} variance explained by 5 PCs\")\n",
    "        else:\n",
    "            print(f\"{name}: Skipped PCA — not enough features (got {feats.shape[1]})\")\n",
    "\n",
    "    return features_dict\n"
   ]
  },
  {
   "cell_type": "code",
   "execution_count": 161,
   "id": "46e2ca28",
   "metadata": {},
   "outputs": [
    {
     "name": "stderr",
     "output_type": "stream",
     "text": [
      "/home/nihad/anaconda3/envs/zavrsni_master/lib/python3.12/site-packages/keras/src/layers/layer.py:940: UserWarning: Layer 'conv1d_591' (of type Conv1D) was passed an input with a mask attached to it. However, this layer does not support masking and will therefore destroy the mask information. Downstream layers will not see the mask.\n",
      "  warnings.warn(\n",
      "/home/nihad/anaconda3/envs/zavrsni_master/lib/python3.12/site-packages/keras/src/layers/layer.py:940: UserWarning: Layer 'conv1d_581' (of type Conv1D) was passed an input with a mask attached to it. However, this layer does not support masking and will therefore destroy the mask information. Downstream layers will not see the mask.\n",
      "  warnings.warn(\n",
      "/home/nihad/anaconda3/envs/zavrsni_master/lib/python3.12/site-packages/keras/src/layers/layer.py:940: UserWarning: Layer 'conv1d_592' (of type Conv1D) was passed an input with a mask attached to it. However, this layer does not support masking and will therefore destroy the mask information. Downstream layers will not see the mask.\n",
      "  warnings.warn(\n",
      "/home/nihad/anaconda3/envs/zavrsni_master/lib/python3.12/site-packages/keras/src/layers/layer.py:940: UserWarning: Layer 'conv1d_582' (of type Conv1D) was passed an input with a mask attached to it. However, this layer does not support masking and will therefore destroy the mask information. Downstream layers will not see the mask.\n",
      "  warnings.warn(\n",
      "/home/nihad/anaconda3/envs/zavrsni_master/lib/python3.12/site-packages/keras/src/layers/layer.py:940: UserWarning: Layer 'max_pooling1d_233' (of type MaxPooling1D) was passed an input with a mask attached to it. However, this layer does not support masking and will therefore destroy the mask information. Downstream layers will not see the mask.\n",
      "  warnings.warn(\n",
      "/home/nihad/anaconda3/envs/zavrsni_master/lib/python3.12/site-packages/keras/src/layers/layer.py:940: UserWarning: Layer 'max_pooling1d_229' (of type MaxPooling1D) was passed an input with a mask attached to it. However, this layer does not support masking and will therefore destroy the mask information. Downstream layers will not see the mask.\n",
      "  warnings.warn(\n"
     ]
    },
    {
     "name": "stdout",
     "output_type": "stream",
     "text": [
      "Layer2_dense_93: Skipped PCA — not enough features (got 1)\n"
     ]
    }
   ],
   "source": [
    "# Use test data\n",
    "layer_indices = [2, 4, 7, 10, 13, 16]\n",
    "features_by_layer = extract_features_by_layer_indices(model, X_test, y_test, layer_indices)\n",
    "\n",
    "# Optional: plot PCA of one layer\n",
    "# reduced_feats, _ = features_by_layer['Layer16_dense_2']  # Example\n",
    "# plt.scatter(reduced_feats[y_test == 0, 0], reduced_feats[y_test == 0, 1], label='Normal', alpha=0.6)\n",
    "# plt.scatter(reduced_feats[y_test == 1, 0], reduced_feats[y_test == 1, 1], label='AF', alpha=0.6)\n",
    "# plt.xlabel(\"PC1\"); plt.ylabel(\"PC2\"); plt.legend(); plt.title(\"Layer 16 PCA\"); plt.grid(True); plt.tight_layout(); plt.show()\n"
   ]
  },
  {
   "cell_type": "code",
   "execution_count": 156,
   "id": "15f31081",
   "metadata": {},
   "outputs": [
    {
     "data": {
      "text/plain": [
       "array([[-0.6314382 , -0.6357738 , -0.63880193, ..., -0.67383444,\n",
       "        -0.6703082 , -0.6679079 ],\n",
       "       [-0.4654801 , -0.4807946 , -0.49080408, ..., -0.31707922,\n",
       "        -0.31356508, -0.31359303],\n",
       "       [-0.7084222 , -0.7368452 , -0.7368704 , ..., -0.66566336,\n",
       "        -0.6618546 , -0.6632435 ],\n",
       "       ...,\n",
       "       [-0.18685642, -0.20766897, -0.21703391, ...,  0.13423714,\n",
       "         0.14159389,  0.15712494],\n",
       "       [-0.17392287, -0.17463478, -0.21200258, ..., -0.46309105,\n",
       "        -0.45886764, -0.4543725 ],\n",
       "       [-0.21736747, -0.21707392, -0.21679112, ..., -0.19282693,\n",
       "        -0.19435845, -0.19739065]], dtype=float32)"
      ]
     },
     "execution_count": 156,
     "metadata": {},
     "output_type": "execute_result"
    }
   ],
   "source": [
    "X_test"
   ]
  },
  {
   "cell_type": "markdown",
   "id": "31b54177",
   "metadata": {},
   "source": [
    "## LSTM"
   ]
  },
  {
   "cell_type": "markdown",
   "id": "a9668cd2",
   "metadata": {
    "heading_collapsed": true
   },
   "source": [
    "### with masking"
   ]
  },
  {
   "cell_type": "code",
   "execution_count": 120,
   "id": "52de483c",
   "metadata": {
    "hidden": true
   },
   "outputs": [],
   "source": [
    "input_shape = (max_length, 1)"
   ]
  },
  {
   "cell_type": "code",
   "execution_count": 121,
   "id": "fdfaa611",
   "metadata": {
    "hidden": true
   },
   "outputs": [],
   "source": [
    "def create_model_with_masking(input_shape):\n",
    "    inputs = layers.Input(shape=input_shape)\n",
    "    \n",
    "    # Masking layer to handle padded values (assuming padding value is 0)\n",
    "    masked_inputs = layers.Masking(mask_value=0.0)(inputs)\n",
    "    \n",
    "    # LSTM layer\n",
    "    lstm_out = layers.LSTM(64, return_sequences=False)(masked_inputs)\n",
    "    \n",
    "    # Dense output layer\n",
    "    outputs = layers.Dense(4, activation='softmax')(lstm_out)\n",
    "    \n",
    "    model = models.Model(inputs, outputs)\n",
    "    return model"
   ]
  },
  {
   "cell_type": "code",
   "execution_count": 122,
   "id": "8a9cc9fe",
   "metadata": {
    "collapsed": true,
    "hidden": true
   },
   "outputs": [
    {
     "name": "stdout",
     "output_type": "stream",
     "text": [
      "Epoch 1/10\n"
     ]
    },
    {
     "name": "stderr",
     "output_type": "stream",
     "text": [
      "2025-05-04 18:17:06.803660: E tensorflow/core/util/util.cc:131] oneDNN supports DT_BOOL only on platforms with AVX-512. Falling back to the default Eigen-based implementation if present.\n"
     ]
    },
    {
     "name": "stdout",
     "output_type": "stream",
     "text": [
      "\u001b[1m 15/179\u001b[0m \u001b[32m━\u001b[0m\u001b[37m━━━━━━━━━━━━━━━━━━━\u001b[0m \u001b[1m25:59\u001b[0m 10s/step - accuracy: 0.3955 - loss: 1.3753"
     ]
    },
    {
     "ename": "KeyboardInterrupt",
     "evalue": "",
     "output_type": "error",
     "traceback": [
      "\u001b[0;31m---------------------------------------------------------------------------\u001b[0m",
      "\u001b[0;31mKeyboardInterrupt\u001b[0m                         Traceback (most recent call last)",
      "Cell \u001b[0;32mIn[122], line 11\u001b[0m\n\u001b[1;32m      4\u001b[0m model_with_masking\u001b[38;5;241m.\u001b[39mcompile(\n\u001b[1;32m      5\u001b[0m     optimizer\u001b[38;5;241m=\u001b[39m\u001b[38;5;124m\"\u001b[39m\u001b[38;5;124madam\u001b[39m\u001b[38;5;124m\"\u001b[39m,\n\u001b[1;32m      6\u001b[0m     loss\u001b[38;5;241m=\u001b[39m\u001b[38;5;124m\"\u001b[39m\u001b[38;5;124mcategorical_crossentropy\u001b[39m\u001b[38;5;124m\"\u001b[39m,\n\u001b[1;32m      7\u001b[0m     metrics\u001b[38;5;241m=\u001b[39m[\u001b[38;5;124m\"\u001b[39m\u001b[38;5;124maccuracy\u001b[39m\u001b[38;5;124m\"\u001b[39m],\n\u001b[1;32m      8\u001b[0m )\n\u001b[1;32m     10\u001b[0m \u001b[38;5;66;03m# Train the model\u001b[39;00m\n\u001b[0;32m---> 11\u001b[0m model_with_masking\u001b[38;5;241m.\u001b[39mfit(X_train, y_train, epochs\u001b[38;5;241m=\u001b[39m\u001b[38;5;241m10\u001b[39m, batch_size\u001b[38;5;241m=\u001b[39m\u001b[38;5;241m32\u001b[39m)\n",
      "File \u001b[0;32m~/anaconda3/envs/zavrsni_master/lib/python3.12/site-packages/keras/src/utils/traceback_utils.py:117\u001b[0m, in \u001b[0;36mfilter_traceback.<locals>.error_handler\u001b[0;34m(*args, **kwargs)\u001b[0m\n\u001b[1;32m    115\u001b[0m filtered_tb \u001b[38;5;241m=\u001b[39m \u001b[38;5;28;01mNone\u001b[39;00m\n\u001b[1;32m    116\u001b[0m \u001b[38;5;28;01mtry\u001b[39;00m:\n\u001b[0;32m--> 117\u001b[0m     \u001b[38;5;28;01mreturn\u001b[39;00m fn(\u001b[38;5;241m*\u001b[39margs, \u001b[38;5;241m*\u001b[39m\u001b[38;5;241m*\u001b[39mkwargs)\n\u001b[1;32m    118\u001b[0m \u001b[38;5;28;01mexcept\u001b[39;00m \u001b[38;5;167;01mException\u001b[39;00m \u001b[38;5;28;01mas\u001b[39;00m e:\n\u001b[1;32m    119\u001b[0m     filtered_tb \u001b[38;5;241m=\u001b[39m _process_traceback_frames(e\u001b[38;5;241m.\u001b[39m__traceback__)\n",
      "File \u001b[0;32m~/anaconda3/envs/zavrsni_master/lib/python3.12/site-packages/keras/src/backend/tensorflow/trainer.py:371\u001b[0m, in \u001b[0;36mTensorFlowTrainer.fit\u001b[0;34m(self, x, y, batch_size, epochs, verbose, callbacks, validation_split, validation_data, shuffle, class_weight, sample_weight, initial_epoch, steps_per_epoch, validation_steps, validation_batch_size, validation_freq)\u001b[0m\n\u001b[1;32m    369\u001b[0m \u001b[38;5;28;01mfor\u001b[39;00m step, iterator \u001b[38;5;129;01min\u001b[39;00m epoch_iterator:\n\u001b[1;32m    370\u001b[0m     callbacks\u001b[38;5;241m.\u001b[39mon_train_batch_begin(step)\n\u001b[0;32m--> 371\u001b[0m     logs \u001b[38;5;241m=\u001b[39m \u001b[38;5;28mself\u001b[39m\u001b[38;5;241m.\u001b[39mtrain_function(iterator)\n\u001b[1;32m    372\u001b[0m     callbacks\u001b[38;5;241m.\u001b[39mon_train_batch_end(step, logs)\n\u001b[1;32m    373\u001b[0m     \u001b[38;5;28;01mif\u001b[39;00m \u001b[38;5;28mself\u001b[39m\u001b[38;5;241m.\u001b[39mstop_training:\n",
      "File \u001b[0;32m~/anaconda3/envs/zavrsni_master/lib/python3.12/site-packages/keras/src/backend/tensorflow/trainer.py:219\u001b[0m, in \u001b[0;36mTensorFlowTrainer._make_function.<locals>.function\u001b[0;34m(iterator)\u001b[0m\n\u001b[1;32m    215\u001b[0m \u001b[38;5;28;01mdef\u001b[39;00m \u001b[38;5;21mfunction\u001b[39m(iterator):\n\u001b[1;32m    216\u001b[0m     \u001b[38;5;28;01mif\u001b[39;00m \u001b[38;5;28misinstance\u001b[39m(\n\u001b[1;32m    217\u001b[0m         iterator, (tf\u001b[38;5;241m.\u001b[39mdata\u001b[38;5;241m.\u001b[39mIterator, tf\u001b[38;5;241m.\u001b[39mdistribute\u001b[38;5;241m.\u001b[39mDistributedIterator)\n\u001b[1;32m    218\u001b[0m     ):\n\u001b[0;32m--> 219\u001b[0m         opt_outputs \u001b[38;5;241m=\u001b[39m multi_step_on_iterator(iterator)\n\u001b[1;32m    220\u001b[0m         \u001b[38;5;28;01mif\u001b[39;00m \u001b[38;5;129;01mnot\u001b[39;00m opt_outputs\u001b[38;5;241m.\u001b[39mhas_value():\n\u001b[1;32m    221\u001b[0m             \u001b[38;5;28;01mraise\u001b[39;00m \u001b[38;5;167;01mStopIteration\u001b[39;00m\n",
      "File \u001b[0;32m~/anaconda3/envs/zavrsni_master/lib/python3.12/site-packages/tensorflow/python/util/traceback_utils.py:150\u001b[0m, in \u001b[0;36mfilter_traceback.<locals>.error_handler\u001b[0;34m(*args, **kwargs)\u001b[0m\n\u001b[1;32m    148\u001b[0m filtered_tb \u001b[38;5;241m=\u001b[39m \u001b[38;5;28;01mNone\u001b[39;00m\n\u001b[1;32m    149\u001b[0m \u001b[38;5;28;01mtry\u001b[39;00m:\n\u001b[0;32m--> 150\u001b[0m   \u001b[38;5;28;01mreturn\u001b[39;00m fn(\u001b[38;5;241m*\u001b[39margs, \u001b[38;5;241m*\u001b[39m\u001b[38;5;241m*\u001b[39mkwargs)\n\u001b[1;32m    151\u001b[0m \u001b[38;5;28;01mexcept\u001b[39;00m \u001b[38;5;167;01mException\u001b[39;00m \u001b[38;5;28;01mas\u001b[39;00m e:\n\u001b[1;32m    152\u001b[0m   filtered_tb \u001b[38;5;241m=\u001b[39m _process_traceback_frames(e\u001b[38;5;241m.\u001b[39m__traceback__)\n",
      "File \u001b[0;32m~/anaconda3/envs/zavrsni_master/lib/python3.12/site-packages/tensorflow/python/eager/polymorphic_function/polymorphic_function.py:833\u001b[0m, in \u001b[0;36mFunction.__call__\u001b[0;34m(self, *args, **kwds)\u001b[0m\n\u001b[1;32m    830\u001b[0m compiler \u001b[38;5;241m=\u001b[39m \u001b[38;5;124m\"\u001b[39m\u001b[38;5;124mxla\u001b[39m\u001b[38;5;124m\"\u001b[39m \u001b[38;5;28;01mif\u001b[39;00m \u001b[38;5;28mself\u001b[39m\u001b[38;5;241m.\u001b[39m_jit_compile \u001b[38;5;28;01melse\u001b[39;00m \u001b[38;5;124m\"\u001b[39m\u001b[38;5;124mnonXla\u001b[39m\u001b[38;5;124m\"\u001b[39m\n\u001b[1;32m    832\u001b[0m \u001b[38;5;28;01mwith\u001b[39;00m OptionalXlaContext(\u001b[38;5;28mself\u001b[39m\u001b[38;5;241m.\u001b[39m_jit_compile):\n\u001b[0;32m--> 833\u001b[0m   result \u001b[38;5;241m=\u001b[39m \u001b[38;5;28mself\u001b[39m\u001b[38;5;241m.\u001b[39m_call(\u001b[38;5;241m*\u001b[39margs, \u001b[38;5;241m*\u001b[39m\u001b[38;5;241m*\u001b[39mkwds)\n\u001b[1;32m    835\u001b[0m new_tracing_count \u001b[38;5;241m=\u001b[39m \u001b[38;5;28mself\u001b[39m\u001b[38;5;241m.\u001b[39mexperimental_get_tracing_count()\n\u001b[1;32m    836\u001b[0m without_tracing \u001b[38;5;241m=\u001b[39m (tracing_count \u001b[38;5;241m==\u001b[39m new_tracing_count)\n",
      "File \u001b[0;32m~/anaconda3/envs/zavrsni_master/lib/python3.12/site-packages/tensorflow/python/eager/polymorphic_function/polymorphic_function.py:878\u001b[0m, in \u001b[0;36mFunction._call\u001b[0;34m(self, *args, **kwds)\u001b[0m\n\u001b[1;32m    875\u001b[0m \u001b[38;5;28mself\u001b[39m\u001b[38;5;241m.\u001b[39m_lock\u001b[38;5;241m.\u001b[39mrelease()\n\u001b[1;32m    876\u001b[0m \u001b[38;5;66;03m# In this case we have not created variables on the first call. So we can\u001b[39;00m\n\u001b[1;32m    877\u001b[0m \u001b[38;5;66;03m# run the first trace but we should fail if variables are created.\u001b[39;00m\n\u001b[0;32m--> 878\u001b[0m results \u001b[38;5;241m=\u001b[39m tracing_compilation\u001b[38;5;241m.\u001b[39mcall_function(\n\u001b[1;32m    879\u001b[0m     args, kwds, \u001b[38;5;28mself\u001b[39m\u001b[38;5;241m.\u001b[39m_variable_creation_config\n\u001b[1;32m    880\u001b[0m )\n\u001b[1;32m    881\u001b[0m \u001b[38;5;28;01mif\u001b[39;00m \u001b[38;5;28mself\u001b[39m\u001b[38;5;241m.\u001b[39m_created_variables:\n\u001b[1;32m    882\u001b[0m   \u001b[38;5;28;01mraise\u001b[39;00m \u001b[38;5;167;01mValueError\u001b[39;00m(\u001b[38;5;124m\"\u001b[39m\u001b[38;5;124mCreating variables on a non-first call to a function\u001b[39m\u001b[38;5;124m\"\u001b[39m\n\u001b[1;32m    883\u001b[0m                    \u001b[38;5;124m\"\u001b[39m\u001b[38;5;124m decorated with tf.function.\u001b[39m\u001b[38;5;124m\"\u001b[39m)\n",
      "File \u001b[0;32m~/anaconda3/envs/zavrsni_master/lib/python3.12/site-packages/tensorflow/python/eager/polymorphic_function/tracing_compilation.py:139\u001b[0m, in \u001b[0;36mcall_function\u001b[0;34m(args, kwargs, tracing_options)\u001b[0m\n\u001b[1;32m    137\u001b[0m bound_args \u001b[38;5;241m=\u001b[39m function\u001b[38;5;241m.\u001b[39mfunction_type\u001b[38;5;241m.\u001b[39mbind(\u001b[38;5;241m*\u001b[39margs, \u001b[38;5;241m*\u001b[39m\u001b[38;5;241m*\u001b[39mkwargs)\n\u001b[1;32m    138\u001b[0m flat_inputs \u001b[38;5;241m=\u001b[39m function\u001b[38;5;241m.\u001b[39mfunction_type\u001b[38;5;241m.\u001b[39munpack_inputs(bound_args)\n\u001b[0;32m--> 139\u001b[0m \u001b[38;5;28;01mreturn\u001b[39;00m function\u001b[38;5;241m.\u001b[39m_call_flat(  \u001b[38;5;66;03m# pylint: disable=protected-access\u001b[39;00m\n\u001b[1;32m    140\u001b[0m     flat_inputs, captured_inputs\u001b[38;5;241m=\u001b[39mfunction\u001b[38;5;241m.\u001b[39mcaptured_inputs\n\u001b[1;32m    141\u001b[0m )\n",
      "File \u001b[0;32m~/anaconda3/envs/zavrsni_master/lib/python3.12/site-packages/tensorflow/python/eager/polymorphic_function/concrete_function.py:1322\u001b[0m, in \u001b[0;36mConcreteFunction._call_flat\u001b[0;34m(self, tensor_inputs, captured_inputs)\u001b[0m\n\u001b[1;32m   1318\u001b[0m possible_gradient_type \u001b[38;5;241m=\u001b[39m gradients_util\u001b[38;5;241m.\u001b[39mPossibleTapeGradientTypes(args)\n\u001b[1;32m   1319\u001b[0m \u001b[38;5;28;01mif\u001b[39;00m (possible_gradient_type \u001b[38;5;241m==\u001b[39m gradients_util\u001b[38;5;241m.\u001b[39mPOSSIBLE_GRADIENT_TYPES_NONE\n\u001b[1;32m   1320\u001b[0m     \u001b[38;5;129;01mand\u001b[39;00m executing_eagerly):\n\u001b[1;32m   1321\u001b[0m   \u001b[38;5;66;03m# No tape is watching; skip to running the function.\u001b[39;00m\n\u001b[0;32m-> 1322\u001b[0m   \u001b[38;5;28;01mreturn\u001b[39;00m \u001b[38;5;28mself\u001b[39m\u001b[38;5;241m.\u001b[39m_inference_function\u001b[38;5;241m.\u001b[39mcall_preflattened(args)\n\u001b[1;32m   1323\u001b[0m forward_backward \u001b[38;5;241m=\u001b[39m \u001b[38;5;28mself\u001b[39m\u001b[38;5;241m.\u001b[39m_select_forward_and_backward_functions(\n\u001b[1;32m   1324\u001b[0m     args,\n\u001b[1;32m   1325\u001b[0m     possible_gradient_type,\n\u001b[1;32m   1326\u001b[0m     executing_eagerly)\n\u001b[1;32m   1327\u001b[0m forward_function, args_with_tangents \u001b[38;5;241m=\u001b[39m forward_backward\u001b[38;5;241m.\u001b[39mforward()\n",
      "File \u001b[0;32m~/anaconda3/envs/zavrsni_master/lib/python3.12/site-packages/tensorflow/python/eager/polymorphic_function/atomic_function.py:216\u001b[0m, in \u001b[0;36mAtomicFunction.call_preflattened\u001b[0;34m(self, args)\u001b[0m\n\u001b[1;32m    214\u001b[0m \u001b[38;5;28;01mdef\u001b[39;00m \u001b[38;5;21mcall_preflattened\u001b[39m(\u001b[38;5;28mself\u001b[39m, args: Sequence[core\u001b[38;5;241m.\u001b[39mTensor]) \u001b[38;5;241m-\u001b[39m\u001b[38;5;241m>\u001b[39m Any:\n\u001b[1;32m    215\u001b[0m \u001b[38;5;250m  \u001b[39m\u001b[38;5;124;03m\"\"\"Calls with flattened tensor inputs and returns the structured output.\"\"\"\u001b[39;00m\n\u001b[0;32m--> 216\u001b[0m   flat_outputs \u001b[38;5;241m=\u001b[39m \u001b[38;5;28mself\u001b[39m\u001b[38;5;241m.\u001b[39mcall_flat(\u001b[38;5;241m*\u001b[39margs)\n\u001b[1;32m    217\u001b[0m   \u001b[38;5;28;01mreturn\u001b[39;00m \u001b[38;5;28mself\u001b[39m\u001b[38;5;241m.\u001b[39mfunction_type\u001b[38;5;241m.\u001b[39mpack_output(flat_outputs)\n",
      "File \u001b[0;32m~/anaconda3/envs/zavrsni_master/lib/python3.12/site-packages/tensorflow/python/eager/polymorphic_function/atomic_function.py:251\u001b[0m, in \u001b[0;36mAtomicFunction.call_flat\u001b[0;34m(self, *args)\u001b[0m\n\u001b[1;32m    249\u001b[0m \u001b[38;5;28;01mwith\u001b[39;00m record\u001b[38;5;241m.\u001b[39mstop_recording():\n\u001b[1;32m    250\u001b[0m   \u001b[38;5;28;01mif\u001b[39;00m \u001b[38;5;28mself\u001b[39m\u001b[38;5;241m.\u001b[39m_bound_context\u001b[38;5;241m.\u001b[39mexecuting_eagerly():\n\u001b[0;32m--> 251\u001b[0m     outputs \u001b[38;5;241m=\u001b[39m \u001b[38;5;28mself\u001b[39m\u001b[38;5;241m.\u001b[39m_bound_context\u001b[38;5;241m.\u001b[39mcall_function(\n\u001b[1;32m    252\u001b[0m         \u001b[38;5;28mself\u001b[39m\u001b[38;5;241m.\u001b[39mname,\n\u001b[1;32m    253\u001b[0m         \u001b[38;5;28mlist\u001b[39m(args),\n\u001b[1;32m    254\u001b[0m         \u001b[38;5;28mlen\u001b[39m(\u001b[38;5;28mself\u001b[39m\u001b[38;5;241m.\u001b[39mfunction_type\u001b[38;5;241m.\u001b[39mflat_outputs),\n\u001b[1;32m    255\u001b[0m     )\n\u001b[1;32m    256\u001b[0m   \u001b[38;5;28;01melse\u001b[39;00m:\n\u001b[1;32m    257\u001b[0m     outputs \u001b[38;5;241m=\u001b[39m make_call_op_in_graph(\n\u001b[1;32m    258\u001b[0m         \u001b[38;5;28mself\u001b[39m,\n\u001b[1;32m    259\u001b[0m         \u001b[38;5;28mlist\u001b[39m(args),\n\u001b[1;32m    260\u001b[0m         \u001b[38;5;28mself\u001b[39m\u001b[38;5;241m.\u001b[39m_bound_context\u001b[38;5;241m.\u001b[39mfunction_call_options\u001b[38;5;241m.\u001b[39mas_attrs(),\n\u001b[1;32m    261\u001b[0m     )\n",
      "File \u001b[0;32m~/anaconda3/envs/zavrsni_master/lib/python3.12/site-packages/tensorflow/python/eager/context.py:1552\u001b[0m, in \u001b[0;36mContext.call_function\u001b[0;34m(self, name, tensor_inputs, num_outputs)\u001b[0m\n\u001b[1;32m   1550\u001b[0m cancellation_context \u001b[38;5;241m=\u001b[39m cancellation\u001b[38;5;241m.\u001b[39mcontext()\n\u001b[1;32m   1551\u001b[0m \u001b[38;5;28;01mif\u001b[39;00m cancellation_context \u001b[38;5;129;01mis\u001b[39;00m \u001b[38;5;28;01mNone\u001b[39;00m:\n\u001b[0;32m-> 1552\u001b[0m   outputs \u001b[38;5;241m=\u001b[39m execute\u001b[38;5;241m.\u001b[39mexecute(\n\u001b[1;32m   1553\u001b[0m       name\u001b[38;5;241m.\u001b[39mdecode(\u001b[38;5;124m\"\u001b[39m\u001b[38;5;124mutf-8\u001b[39m\u001b[38;5;124m\"\u001b[39m),\n\u001b[1;32m   1554\u001b[0m       num_outputs\u001b[38;5;241m=\u001b[39mnum_outputs,\n\u001b[1;32m   1555\u001b[0m       inputs\u001b[38;5;241m=\u001b[39mtensor_inputs,\n\u001b[1;32m   1556\u001b[0m       attrs\u001b[38;5;241m=\u001b[39mattrs,\n\u001b[1;32m   1557\u001b[0m       ctx\u001b[38;5;241m=\u001b[39m\u001b[38;5;28mself\u001b[39m,\n\u001b[1;32m   1558\u001b[0m   )\n\u001b[1;32m   1559\u001b[0m \u001b[38;5;28;01melse\u001b[39;00m:\n\u001b[1;32m   1560\u001b[0m   outputs \u001b[38;5;241m=\u001b[39m execute\u001b[38;5;241m.\u001b[39mexecute_with_cancellation(\n\u001b[1;32m   1561\u001b[0m       name\u001b[38;5;241m.\u001b[39mdecode(\u001b[38;5;124m\"\u001b[39m\u001b[38;5;124mutf-8\u001b[39m\u001b[38;5;124m\"\u001b[39m),\n\u001b[1;32m   1562\u001b[0m       num_outputs\u001b[38;5;241m=\u001b[39mnum_outputs,\n\u001b[0;32m   (...)\u001b[0m\n\u001b[1;32m   1566\u001b[0m       cancellation_manager\u001b[38;5;241m=\u001b[39mcancellation_context,\n\u001b[1;32m   1567\u001b[0m   )\n",
      "File \u001b[0;32m~/anaconda3/envs/zavrsni_master/lib/python3.12/site-packages/tensorflow/python/eager/execute.py:53\u001b[0m, in \u001b[0;36mquick_execute\u001b[0;34m(op_name, num_outputs, inputs, attrs, ctx, name)\u001b[0m\n\u001b[1;32m     51\u001b[0m \u001b[38;5;28;01mtry\u001b[39;00m:\n\u001b[1;32m     52\u001b[0m   ctx\u001b[38;5;241m.\u001b[39mensure_initialized()\n\u001b[0;32m---> 53\u001b[0m   tensors \u001b[38;5;241m=\u001b[39m pywrap_tfe\u001b[38;5;241m.\u001b[39mTFE_Py_Execute(ctx\u001b[38;5;241m.\u001b[39m_handle, device_name, op_name,\n\u001b[1;32m     54\u001b[0m                                       inputs, attrs, num_outputs)\n\u001b[1;32m     55\u001b[0m \u001b[38;5;28;01mexcept\u001b[39;00m core\u001b[38;5;241m.\u001b[39m_NotOkStatusException \u001b[38;5;28;01mas\u001b[39;00m e:\n\u001b[1;32m     56\u001b[0m   \u001b[38;5;28;01mif\u001b[39;00m name \u001b[38;5;129;01mis\u001b[39;00m \u001b[38;5;129;01mnot\u001b[39;00m \u001b[38;5;28;01mNone\u001b[39;00m:\n",
      "\u001b[0;31mKeyboardInterrupt\u001b[0m: "
     ]
    }
   ],
   "source": [
    "model_with_masking = create_model_with_masking(input_shape)\n",
    "\n",
    "\n",
    "model_with_masking.compile(\n",
    "    optimizer=\"adam\",\n",
    "    loss=\"categorical_crossentropy\",\n",
    "    metrics=[\"accuracy\"],\n",
    ")\n",
    "\n",
    "# Train the model\n",
    "model_with_masking.fit(X_train, y_train, epochs=10, batch_size=32) "
   ]
  },
  {
   "cell_type": "markdown",
   "id": "c398bf87",
   "metadata": {
    "heading_collapsed": true
   },
   "source": [
    "### without masking"
   ]
  },
  {
   "cell_type": "code",
   "execution_count": 123,
   "id": "879521f7",
   "metadata": {
    "hidden": true
   },
   "outputs": [],
   "source": [
    "def create_model_without_masking(input_shape):\n",
    "    inputs = layers.Input(shape=input_shape)\n",
    "    \n",
    "    # LSTM layer\n",
    "    lstm_out = layers.LSTM(64, return_sequences=False)(inputs)\n",
    "    \n",
    "    # Dense output layer\n",
    "    outputs = layers.Dense(4, activation='softmax')(lstm_out)\n",
    "    \n",
    "    model = models.Model(inputs, outputs)\n",
    "    return model"
   ]
  },
  {
   "cell_type": "code",
   "execution_count": 124,
   "id": "6c4927da",
   "metadata": {
    "hidden": true
   },
   "outputs": [
    {
     "name": "stdout",
     "output_type": "stream",
     "text": [
      "Epoch 1/10\n",
      "\u001b[1m179/179\u001b[0m \u001b[32m━━━━━━━━━━━━━━━━━━━━\u001b[0m\u001b[37m\u001b[0m \u001b[1m1386s\u001b[0m 8s/step - accuracy: 0.5612 - loss: 1.1012\n",
      "Epoch 2/10\n",
      "\u001b[1m179/179\u001b[0m \u001b[32m━━━━━━━━━━━━━━━━━━━━\u001b[0m\u001b[37m\u001b[0m \u001b[1m42623s\u001b[0m 239s/step - accuracy: 0.5951 - loss: 0.9894\n",
      "Epoch 3/10\n",
      "\u001b[1m175/179\u001b[0m \u001b[32m━━━━━━━━━━━━━━━━━━━\u001b[0m\u001b[37m━\u001b[0m \u001b[1m31s\u001b[0m 8s/step - accuracy: 0.5929 - loss: 0.9877"
     ]
    },
    {
     "ename": "KeyboardInterrupt",
     "evalue": "",
     "output_type": "error",
     "traceback": [
      "\u001b[0;31m---------------------------------------------------------------------------\u001b[0m",
      "\u001b[0;31mKeyboardInterrupt\u001b[0m                         Traceback (most recent call last)",
      "Cell \u001b[0;32mIn[124], line 11\u001b[0m\n\u001b[1;32m      4\u001b[0m model_without_masking\u001b[38;5;241m.\u001b[39mcompile(\n\u001b[1;32m      5\u001b[0m     optimizer\u001b[38;5;241m=\u001b[39m\u001b[38;5;124m\"\u001b[39m\u001b[38;5;124madam\u001b[39m\u001b[38;5;124m\"\u001b[39m,\n\u001b[1;32m      6\u001b[0m     loss\u001b[38;5;241m=\u001b[39m\u001b[38;5;124m\"\u001b[39m\u001b[38;5;124mcategorical_crossentropy\u001b[39m\u001b[38;5;124m\"\u001b[39m,\n\u001b[1;32m      7\u001b[0m     metrics\u001b[38;5;241m=\u001b[39m[\u001b[38;5;124m\"\u001b[39m\u001b[38;5;124maccuracy\u001b[39m\u001b[38;5;124m\"\u001b[39m],\n\u001b[1;32m      8\u001b[0m )\n\u001b[1;32m     10\u001b[0m \u001b[38;5;66;03m# Train the model\u001b[39;00m\n\u001b[0;32m---> 11\u001b[0m model_without_masking\u001b[38;5;241m.\u001b[39mfit(X_train, y_train, epochs\u001b[38;5;241m=\u001b[39m\u001b[38;5;241m10\u001b[39m, batch_size\u001b[38;5;241m=\u001b[39m\u001b[38;5;241m32\u001b[39m)\n",
      "File \u001b[0;32m~/anaconda3/envs/zavrsni_master/lib/python3.12/site-packages/keras/src/utils/traceback_utils.py:117\u001b[0m, in \u001b[0;36mfilter_traceback.<locals>.error_handler\u001b[0;34m(*args, **kwargs)\u001b[0m\n\u001b[1;32m    115\u001b[0m filtered_tb \u001b[38;5;241m=\u001b[39m \u001b[38;5;28;01mNone\u001b[39;00m\n\u001b[1;32m    116\u001b[0m \u001b[38;5;28;01mtry\u001b[39;00m:\n\u001b[0;32m--> 117\u001b[0m     \u001b[38;5;28;01mreturn\u001b[39;00m fn(\u001b[38;5;241m*\u001b[39margs, \u001b[38;5;241m*\u001b[39m\u001b[38;5;241m*\u001b[39mkwargs)\n\u001b[1;32m    118\u001b[0m \u001b[38;5;28;01mexcept\u001b[39;00m \u001b[38;5;167;01mException\u001b[39;00m \u001b[38;5;28;01mas\u001b[39;00m e:\n\u001b[1;32m    119\u001b[0m     filtered_tb \u001b[38;5;241m=\u001b[39m _process_traceback_frames(e\u001b[38;5;241m.\u001b[39m__traceback__)\n",
      "File \u001b[0;32m~/anaconda3/envs/zavrsni_master/lib/python3.12/site-packages/keras/src/backend/tensorflow/trainer.py:371\u001b[0m, in \u001b[0;36mTensorFlowTrainer.fit\u001b[0;34m(self, x, y, batch_size, epochs, verbose, callbacks, validation_split, validation_data, shuffle, class_weight, sample_weight, initial_epoch, steps_per_epoch, validation_steps, validation_batch_size, validation_freq)\u001b[0m\n\u001b[1;32m    369\u001b[0m \u001b[38;5;28;01mfor\u001b[39;00m step, iterator \u001b[38;5;129;01min\u001b[39;00m epoch_iterator:\n\u001b[1;32m    370\u001b[0m     callbacks\u001b[38;5;241m.\u001b[39mon_train_batch_begin(step)\n\u001b[0;32m--> 371\u001b[0m     logs \u001b[38;5;241m=\u001b[39m \u001b[38;5;28mself\u001b[39m\u001b[38;5;241m.\u001b[39mtrain_function(iterator)\n\u001b[1;32m    372\u001b[0m     callbacks\u001b[38;5;241m.\u001b[39mon_train_batch_end(step, logs)\n\u001b[1;32m    373\u001b[0m     \u001b[38;5;28;01mif\u001b[39;00m \u001b[38;5;28mself\u001b[39m\u001b[38;5;241m.\u001b[39mstop_training:\n",
      "File \u001b[0;32m~/anaconda3/envs/zavrsni_master/lib/python3.12/site-packages/keras/src/backend/tensorflow/trainer.py:219\u001b[0m, in \u001b[0;36mTensorFlowTrainer._make_function.<locals>.function\u001b[0;34m(iterator)\u001b[0m\n\u001b[1;32m    215\u001b[0m \u001b[38;5;28;01mdef\u001b[39;00m \u001b[38;5;21mfunction\u001b[39m(iterator):\n\u001b[1;32m    216\u001b[0m     \u001b[38;5;28;01mif\u001b[39;00m \u001b[38;5;28misinstance\u001b[39m(\n\u001b[1;32m    217\u001b[0m         iterator, (tf\u001b[38;5;241m.\u001b[39mdata\u001b[38;5;241m.\u001b[39mIterator, tf\u001b[38;5;241m.\u001b[39mdistribute\u001b[38;5;241m.\u001b[39mDistributedIterator)\n\u001b[1;32m    218\u001b[0m     ):\n\u001b[0;32m--> 219\u001b[0m         opt_outputs \u001b[38;5;241m=\u001b[39m multi_step_on_iterator(iterator)\n\u001b[1;32m    220\u001b[0m         \u001b[38;5;28;01mif\u001b[39;00m \u001b[38;5;129;01mnot\u001b[39;00m opt_outputs\u001b[38;5;241m.\u001b[39mhas_value():\n\u001b[1;32m    221\u001b[0m             \u001b[38;5;28;01mraise\u001b[39;00m \u001b[38;5;167;01mStopIteration\u001b[39;00m\n",
      "File \u001b[0;32m~/anaconda3/envs/zavrsni_master/lib/python3.12/site-packages/tensorflow/python/util/traceback_utils.py:150\u001b[0m, in \u001b[0;36mfilter_traceback.<locals>.error_handler\u001b[0;34m(*args, **kwargs)\u001b[0m\n\u001b[1;32m    148\u001b[0m filtered_tb \u001b[38;5;241m=\u001b[39m \u001b[38;5;28;01mNone\u001b[39;00m\n\u001b[1;32m    149\u001b[0m \u001b[38;5;28;01mtry\u001b[39;00m:\n\u001b[0;32m--> 150\u001b[0m   \u001b[38;5;28;01mreturn\u001b[39;00m fn(\u001b[38;5;241m*\u001b[39margs, \u001b[38;5;241m*\u001b[39m\u001b[38;5;241m*\u001b[39mkwargs)\n\u001b[1;32m    151\u001b[0m \u001b[38;5;28;01mexcept\u001b[39;00m \u001b[38;5;167;01mException\u001b[39;00m \u001b[38;5;28;01mas\u001b[39;00m e:\n\u001b[1;32m    152\u001b[0m   filtered_tb \u001b[38;5;241m=\u001b[39m _process_traceback_frames(e\u001b[38;5;241m.\u001b[39m__traceback__)\n",
      "File \u001b[0;32m~/anaconda3/envs/zavrsni_master/lib/python3.12/site-packages/tensorflow/python/eager/polymorphic_function/polymorphic_function.py:833\u001b[0m, in \u001b[0;36mFunction.__call__\u001b[0;34m(self, *args, **kwds)\u001b[0m\n\u001b[1;32m    830\u001b[0m compiler \u001b[38;5;241m=\u001b[39m \u001b[38;5;124m\"\u001b[39m\u001b[38;5;124mxla\u001b[39m\u001b[38;5;124m\"\u001b[39m \u001b[38;5;28;01mif\u001b[39;00m \u001b[38;5;28mself\u001b[39m\u001b[38;5;241m.\u001b[39m_jit_compile \u001b[38;5;28;01melse\u001b[39;00m \u001b[38;5;124m\"\u001b[39m\u001b[38;5;124mnonXla\u001b[39m\u001b[38;5;124m\"\u001b[39m\n\u001b[1;32m    832\u001b[0m \u001b[38;5;28;01mwith\u001b[39;00m OptionalXlaContext(\u001b[38;5;28mself\u001b[39m\u001b[38;5;241m.\u001b[39m_jit_compile):\n\u001b[0;32m--> 833\u001b[0m   result \u001b[38;5;241m=\u001b[39m \u001b[38;5;28mself\u001b[39m\u001b[38;5;241m.\u001b[39m_call(\u001b[38;5;241m*\u001b[39margs, \u001b[38;5;241m*\u001b[39m\u001b[38;5;241m*\u001b[39mkwds)\n\u001b[1;32m    835\u001b[0m new_tracing_count \u001b[38;5;241m=\u001b[39m \u001b[38;5;28mself\u001b[39m\u001b[38;5;241m.\u001b[39mexperimental_get_tracing_count()\n\u001b[1;32m    836\u001b[0m without_tracing \u001b[38;5;241m=\u001b[39m (tracing_count \u001b[38;5;241m==\u001b[39m new_tracing_count)\n",
      "File \u001b[0;32m~/anaconda3/envs/zavrsni_master/lib/python3.12/site-packages/tensorflow/python/eager/polymorphic_function/polymorphic_function.py:878\u001b[0m, in \u001b[0;36mFunction._call\u001b[0;34m(self, *args, **kwds)\u001b[0m\n\u001b[1;32m    875\u001b[0m \u001b[38;5;28mself\u001b[39m\u001b[38;5;241m.\u001b[39m_lock\u001b[38;5;241m.\u001b[39mrelease()\n\u001b[1;32m    876\u001b[0m \u001b[38;5;66;03m# In this case we have not created variables on the first call. So we can\u001b[39;00m\n\u001b[1;32m    877\u001b[0m \u001b[38;5;66;03m# run the first trace but we should fail if variables are created.\u001b[39;00m\n\u001b[0;32m--> 878\u001b[0m results \u001b[38;5;241m=\u001b[39m tracing_compilation\u001b[38;5;241m.\u001b[39mcall_function(\n\u001b[1;32m    879\u001b[0m     args, kwds, \u001b[38;5;28mself\u001b[39m\u001b[38;5;241m.\u001b[39m_variable_creation_config\n\u001b[1;32m    880\u001b[0m )\n\u001b[1;32m    881\u001b[0m \u001b[38;5;28;01mif\u001b[39;00m \u001b[38;5;28mself\u001b[39m\u001b[38;5;241m.\u001b[39m_created_variables:\n\u001b[1;32m    882\u001b[0m   \u001b[38;5;28;01mraise\u001b[39;00m \u001b[38;5;167;01mValueError\u001b[39;00m(\u001b[38;5;124m\"\u001b[39m\u001b[38;5;124mCreating variables on a non-first call to a function\u001b[39m\u001b[38;5;124m\"\u001b[39m\n\u001b[1;32m    883\u001b[0m                    \u001b[38;5;124m\"\u001b[39m\u001b[38;5;124m decorated with tf.function.\u001b[39m\u001b[38;5;124m\"\u001b[39m)\n",
      "File \u001b[0;32m~/anaconda3/envs/zavrsni_master/lib/python3.12/site-packages/tensorflow/python/eager/polymorphic_function/tracing_compilation.py:139\u001b[0m, in \u001b[0;36mcall_function\u001b[0;34m(args, kwargs, tracing_options)\u001b[0m\n\u001b[1;32m    137\u001b[0m bound_args \u001b[38;5;241m=\u001b[39m function\u001b[38;5;241m.\u001b[39mfunction_type\u001b[38;5;241m.\u001b[39mbind(\u001b[38;5;241m*\u001b[39margs, \u001b[38;5;241m*\u001b[39m\u001b[38;5;241m*\u001b[39mkwargs)\n\u001b[1;32m    138\u001b[0m flat_inputs \u001b[38;5;241m=\u001b[39m function\u001b[38;5;241m.\u001b[39mfunction_type\u001b[38;5;241m.\u001b[39munpack_inputs(bound_args)\n\u001b[0;32m--> 139\u001b[0m \u001b[38;5;28;01mreturn\u001b[39;00m function\u001b[38;5;241m.\u001b[39m_call_flat(  \u001b[38;5;66;03m# pylint: disable=protected-access\u001b[39;00m\n\u001b[1;32m    140\u001b[0m     flat_inputs, captured_inputs\u001b[38;5;241m=\u001b[39mfunction\u001b[38;5;241m.\u001b[39mcaptured_inputs\n\u001b[1;32m    141\u001b[0m )\n",
      "File \u001b[0;32m~/anaconda3/envs/zavrsni_master/lib/python3.12/site-packages/tensorflow/python/eager/polymorphic_function/concrete_function.py:1322\u001b[0m, in \u001b[0;36mConcreteFunction._call_flat\u001b[0;34m(self, tensor_inputs, captured_inputs)\u001b[0m\n\u001b[1;32m   1318\u001b[0m possible_gradient_type \u001b[38;5;241m=\u001b[39m gradients_util\u001b[38;5;241m.\u001b[39mPossibleTapeGradientTypes(args)\n\u001b[1;32m   1319\u001b[0m \u001b[38;5;28;01mif\u001b[39;00m (possible_gradient_type \u001b[38;5;241m==\u001b[39m gradients_util\u001b[38;5;241m.\u001b[39mPOSSIBLE_GRADIENT_TYPES_NONE\n\u001b[1;32m   1320\u001b[0m     \u001b[38;5;129;01mand\u001b[39;00m executing_eagerly):\n\u001b[1;32m   1321\u001b[0m   \u001b[38;5;66;03m# No tape is watching; skip to running the function.\u001b[39;00m\n\u001b[0;32m-> 1322\u001b[0m   \u001b[38;5;28;01mreturn\u001b[39;00m \u001b[38;5;28mself\u001b[39m\u001b[38;5;241m.\u001b[39m_inference_function\u001b[38;5;241m.\u001b[39mcall_preflattened(args)\n\u001b[1;32m   1323\u001b[0m forward_backward \u001b[38;5;241m=\u001b[39m \u001b[38;5;28mself\u001b[39m\u001b[38;5;241m.\u001b[39m_select_forward_and_backward_functions(\n\u001b[1;32m   1324\u001b[0m     args,\n\u001b[1;32m   1325\u001b[0m     possible_gradient_type,\n\u001b[1;32m   1326\u001b[0m     executing_eagerly)\n\u001b[1;32m   1327\u001b[0m forward_function, args_with_tangents \u001b[38;5;241m=\u001b[39m forward_backward\u001b[38;5;241m.\u001b[39mforward()\n",
      "File \u001b[0;32m~/anaconda3/envs/zavrsni_master/lib/python3.12/site-packages/tensorflow/python/eager/polymorphic_function/atomic_function.py:216\u001b[0m, in \u001b[0;36mAtomicFunction.call_preflattened\u001b[0;34m(self, args)\u001b[0m\n\u001b[1;32m    214\u001b[0m \u001b[38;5;28;01mdef\u001b[39;00m \u001b[38;5;21mcall_preflattened\u001b[39m(\u001b[38;5;28mself\u001b[39m, args: Sequence[core\u001b[38;5;241m.\u001b[39mTensor]) \u001b[38;5;241m-\u001b[39m\u001b[38;5;241m>\u001b[39m Any:\n\u001b[1;32m    215\u001b[0m \u001b[38;5;250m  \u001b[39m\u001b[38;5;124;03m\"\"\"Calls with flattened tensor inputs and returns the structured output.\"\"\"\u001b[39;00m\n\u001b[0;32m--> 216\u001b[0m   flat_outputs \u001b[38;5;241m=\u001b[39m \u001b[38;5;28mself\u001b[39m\u001b[38;5;241m.\u001b[39mcall_flat(\u001b[38;5;241m*\u001b[39margs)\n\u001b[1;32m    217\u001b[0m   \u001b[38;5;28;01mreturn\u001b[39;00m \u001b[38;5;28mself\u001b[39m\u001b[38;5;241m.\u001b[39mfunction_type\u001b[38;5;241m.\u001b[39mpack_output(flat_outputs)\n",
      "File \u001b[0;32m~/anaconda3/envs/zavrsni_master/lib/python3.12/site-packages/tensorflow/python/eager/polymorphic_function/atomic_function.py:251\u001b[0m, in \u001b[0;36mAtomicFunction.call_flat\u001b[0;34m(self, *args)\u001b[0m\n\u001b[1;32m    249\u001b[0m \u001b[38;5;28;01mwith\u001b[39;00m record\u001b[38;5;241m.\u001b[39mstop_recording():\n\u001b[1;32m    250\u001b[0m   \u001b[38;5;28;01mif\u001b[39;00m \u001b[38;5;28mself\u001b[39m\u001b[38;5;241m.\u001b[39m_bound_context\u001b[38;5;241m.\u001b[39mexecuting_eagerly():\n\u001b[0;32m--> 251\u001b[0m     outputs \u001b[38;5;241m=\u001b[39m \u001b[38;5;28mself\u001b[39m\u001b[38;5;241m.\u001b[39m_bound_context\u001b[38;5;241m.\u001b[39mcall_function(\n\u001b[1;32m    252\u001b[0m         \u001b[38;5;28mself\u001b[39m\u001b[38;5;241m.\u001b[39mname,\n\u001b[1;32m    253\u001b[0m         \u001b[38;5;28mlist\u001b[39m(args),\n\u001b[1;32m    254\u001b[0m         \u001b[38;5;28mlen\u001b[39m(\u001b[38;5;28mself\u001b[39m\u001b[38;5;241m.\u001b[39mfunction_type\u001b[38;5;241m.\u001b[39mflat_outputs),\n\u001b[1;32m    255\u001b[0m     )\n\u001b[1;32m    256\u001b[0m   \u001b[38;5;28;01melse\u001b[39;00m:\n\u001b[1;32m    257\u001b[0m     outputs \u001b[38;5;241m=\u001b[39m make_call_op_in_graph(\n\u001b[1;32m    258\u001b[0m         \u001b[38;5;28mself\u001b[39m,\n\u001b[1;32m    259\u001b[0m         \u001b[38;5;28mlist\u001b[39m(args),\n\u001b[1;32m    260\u001b[0m         \u001b[38;5;28mself\u001b[39m\u001b[38;5;241m.\u001b[39m_bound_context\u001b[38;5;241m.\u001b[39mfunction_call_options\u001b[38;5;241m.\u001b[39mas_attrs(),\n\u001b[1;32m    261\u001b[0m     )\n",
      "File \u001b[0;32m~/anaconda3/envs/zavrsni_master/lib/python3.12/site-packages/tensorflow/python/eager/context.py:1552\u001b[0m, in \u001b[0;36mContext.call_function\u001b[0;34m(self, name, tensor_inputs, num_outputs)\u001b[0m\n\u001b[1;32m   1550\u001b[0m cancellation_context \u001b[38;5;241m=\u001b[39m cancellation\u001b[38;5;241m.\u001b[39mcontext()\n\u001b[1;32m   1551\u001b[0m \u001b[38;5;28;01mif\u001b[39;00m cancellation_context \u001b[38;5;129;01mis\u001b[39;00m \u001b[38;5;28;01mNone\u001b[39;00m:\n\u001b[0;32m-> 1552\u001b[0m   outputs \u001b[38;5;241m=\u001b[39m execute\u001b[38;5;241m.\u001b[39mexecute(\n\u001b[1;32m   1553\u001b[0m       name\u001b[38;5;241m.\u001b[39mdecode(\u001b[38;5;124m\"\u001b[39m\u001b[38;5;124mutf-8\u001b[39m\u001b[38;5;124m\"\u001b[39m),\n\u001b[1;32m   1554\u001b[0m       num_outputs\u001b[38;5;241m=\u001b[39mnum_outputs,\n\u001b[1;32m   1555\u001b[0m       inputs\u001b[38;5;241m=\u001b[39mtensor_inputs,\n\u001b[1;32m   1556\u001b[0m       attrs\u001b[38;5;241m=\u001b[39mattrs,\n\u001b[1;32m   1557\u001b[0m       ctx\u001b[38;5;241m=\u001b[39m\u001b[38;5;28mself\u001b[39m,\n\u001b[1;32m   1558\u001b[0m   )\n\u001b[1;32m   1559\u001b[0m \u001b[38;5;28;01melse\u001b[39;00m:\n\u001b[1;32m   1560\u001b[0m   outputs \u001b[38;5;241m=\u001b[39m execute\u001b[38;5;241m.\u001b[39mexecute_with_cancellation(\n\u001b[1;32m   1561\u001b[0m       name\u001b[38;5;241m.\u001b[39mdecode(\u001b[38;5;124m\"\u001b[39m\u001b[38;5;124mutf-8\u001b[39m\u001b[38;5;124m\"\u001b[39m),\n\u001b[1;32m   1562\u001b[0m       num_outputs\u001b[38;5;241m=\u001b[39mnum_outputs,\n\u001b[0;32m   (...)\u001b[0m\n\u001b[1;32m   1566\u001b[0m       cancellation_manager\u001b[38;5;241m=\u001b[39mcancellation_context,\n\u001b[1;32m   1567\u001b[0m   )\n",
      "File \u001b[0;32m~/anaconda3/envs/zavrsni_master/lib/python3.12/site-packages/tensorflow/python/eager/execute.py:53\u001b[0m, in \u001b[0;36mquick_execute\u001b[0;34m(op_name, num_outputs, inputs, attrs, ctx, name)\u001b[0m\n\u001b[1;32m     51\u001b[0m \u001b[38;5;28;01mtry\u001b[39;00m:\n\u001b[1;32m     52\u001b[0m   ctx\u001b[38;5;241m.\u001b[39mensure_initialized()\n\u001b[0;32m---> 53\u001b[0m   tensors \u001b[38;5;241m=\u001b[39m pywrap_tfe\u001b[38;5;241m.\u001b[39mTFE_Py_Execute(ctx\u001b[38;5;241m.\u001b[39m_handle, device_name, op_name,\n\u001b[1;32m     54\u001b[0m                                       inputs, attrs, num_outputs)\n\u001b[1;32m     55\u001b[0m \u001b[38;5;28;01mexcept\u001b[39;00m core\u001b[38;5;241m.\u001b[39m_NotOkStatusException \u001b[38;5;28;01mas\u001b[39;00m e:\n\u001b[1;32m     56\u001b[0m   \u001b[38;5;28;01mif\u001b[39;00m name \u001b[38;5;129;01mis\u001b[39;00m \u001b[38;5;129;01mnot\u001b[39;00m \u001b[38;5;28;01mNone\u001b[39;00m:\n",
      "\u001b[0;31mKeyboardInterrupt\u001b[0m: "
     ]
    }
   ],
   "source": [
    "model_without_masking = create_model_without_masking(input_shape)\n",
    "\n",
    "\n",
    "model_without_masking.compile(\n",
    "    optimizer=\"adam\",\n",
    "    loss=\"categorical_crossentropy\",\n",
    "    metrics=[\"accuracy\"],\n",
    ")\n",
    "\n",
    "# Train the model\n",
    "model_without_masking.fit(X_train, y_train, epochs=10, batch_size=32) "
   ]
  },
  {
   "cell_type": "code",
   "execution_count": 72,
   "id": "3e1a560d",
   "metadata": {
    "hidden": true
   },
   "outputs": [
    {
     "name": "stdout",
     "output_type": "stream",
     "text": [
      "Epoch 1/10\n",
      "\u001b[1m32/32\u001b[0m \u001b[32m━━━━━━━━━━━━━━━━━━━━\u001b[0m\u001b[37m\u001b[0m \u001b[1m2s\u001b[0m 10ms/step - loss: 1.3877 - sparse_categorical_accuracy: 0.2661\n",
      "Epoch 2/10\n",
      "\u001b[1m32/32\u001b[0m \u001b[32m━━━━━━━━━━━━━━━━━━━━\u001b[0m\u001b[37m\u001b[0m \u001b[1m0s\u001b[0m 10ms/step - loss: 1.3864 - sparse_categorical_accuracy: 0.2737\n",
      "Epoch 3/10\n",
      "\u001b[1m32/32\u001b[0m \u001b[32m━━━━━━━━━━━━━━━━━━━━\u001b[0m\u001b[37m\u001b[0m \u001b[1m0s\u001b[0m 10ms/step - loss: 1.3860 - sparse_categorical_accuracy: 0.2548\n",
      "Epoch 4/10\n",
      "\u001b[1m32/32\u001b[0m \u001b[32m━━━━━━━━━━━━━━━━━━━━\u001b[0m\u001b[37m\u001b[0m \u001b[1m0s\u001b[0m 10ms/step - loss: 1.3854 - sparse_categorical_accuracy: 0.2684\n",
      "Epoch 5/10\n",
      "\u001b[1m32/32\u001b[0m \u001b[32m━━━━━━━━━━━━━━━━━━━━\u001b[0m\u001b[37m\u001b[0m \u001b[1m0s\u001b[0m 11ms/step - loss: 1.3848 - sparse_categorical_accuracy: 0.2725\n",
      "Epoch 6/10\n",
      "\u001b[1m32/32\u001b[0m \u001b[32m━━━━━━━━━━━━━━━━━━━━\u001b[0m\u001b[37m\u001b[0m \u001b[1m0s\u001b[0m 10ms/step - loss: 1.3859 - sparse_categorical_accuracy: 0.2677\n",
      "Epoch 7/10\n",
      "\u001b[1m32/32\u001b[0m \u001b[32m━━━━━━━━━━━━━━━━━━━━\u001b[0m\u001b[37m\u001b[0m \u001b[1m0s\u001b[0m 11ms/step - loss: 1.3842 - sparse_categorical_accuracy: 0.2750\n",
      "Epoch 8/10\n",
      "\u001b[1m32/32\u001b[0m \u001b[32m━━━━━━━━━━━━━━━━━━━━\u001b[0m\u001b[37m\u001b[0m \u001b[1m0s\u001b[0m 11ms/step - loss: 1.3846 - sparse_categorical_accuracy: 0.2719\n",
      "Epoch 9/10\n",
      "\u001b[1m32/32\u001b[0m \u001b[32m━━━━━━━━━━━━━━━━━━━━\u001b[0m\u001b[37m\u001b[0m \u001b[1m0s\u001b[0m 10ms/step - loss: 1.3852 - sparse_categorical_accuracy: 0.2757\n",
      "Epoch 10/10\n",
      "\u001b[1m32/32\u001b[0m \u001b[32m━━━━━━━━━━━━━━━━━━━━\u001b[0m\u001b[37m\u001b[0m \u001b[1m0s\u001b[0m 10ms/step - loss: 1.3858 - sparse_categorical_accuracy: 0.2701\n"
     ]
    },
    {
     "data": {
      "text/plain": [
       "<keras.src.callbacks.history.History at 0x7c36fc0b3500>"
      ]
     },
     "execution_count": 72,
     "metadata": {},
     "output_type": "execute_result"
    }
   ],
   "source": [
    "import numpy as np\n",
    "from tensorflow.keras.optimizers import Adam\n",
    "from tensorflow.keras.losses import SparseCategoricalCrossentropy\n",
    "from tensorflow.keras.metrics import SparseCategoricalAccuracy\n",
    "\n",
    "# Assuming 'create_model_with_masking' is defined as in the previous message\n",
    "\n",
    "# Generate synthetic training data\n",
    "num_samples = 1000\n",
    "max_sequence_length = 50\n",
    "num_features = 1  # Single feature per timestep\n",
    "num_classes = 4  # Number of output classes\n",
    "\n",
    "# Random sequences with varying lengths\n",
    "X_train = [np.random.rand(np.random.randint(1, max_sequence_length + 1), num_features) for _ in range(num_samples)]\n",
    "y_train = np.random.randint(0, num_classes, size=num_samples)\n",
    "\n",
    "# Pad sequences to ensure uniform input size\n",
    "X_train_padded = np.array([np.pad(seq, ((0, max_sequence_length - len(seq)), (0, 0)), mode='constant') if len(seq) < max_sequence_length else seq[:max_sequence_length] for seq in X_train])\n",
    "\n",
    "# Define the model\n",
    "input_shape = (max_sequence_length, num_features)\n",
    "model_with_masking = create_model_with_masking(input_shape)\n",
    "\n",
    "# Compile the model\n",
    "model_with_masking.compile(\n",
    "    optimizer=Adam(),\n",
    "    loss=SparseCategoricalCrossentropy(),\n",
    "    metrics=[SparseCategoricalAccuracy()]\n",
    ")\n",
    "\n",
    "# Train the model\n",
    "model_with_masking.fit(X_train_padded, y_train, epochs=10, batch_size=32)"
   ]
  }
 ],
 "metadata": {
  "kernelspec": {
   "display_name": "Python 3 (ipykernel)",
   "language": "python",
   "name": "python3"
  },
  "language_info": {
   "codemirror_mode": {
    "name": "ipython",
    "version": 3
   },
   "file_extension": ".py",
   "mimetype": "text/x-python",
   "name": "python",
   "nbconvert_exporter": "python",
   "pygments_lexer": "ipython3",
   "version": "3.12.3"
  }
 },
 "nbformat": 4,
 "nbformat_minor": 5
}
